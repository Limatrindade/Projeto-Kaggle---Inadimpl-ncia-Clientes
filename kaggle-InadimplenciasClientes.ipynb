{
 "cells": [
  {
   "cell_type": "markdown",
   "id": "fc9446c3",
   "metadata": {
    "id": "j6Wf1XOjEa6A",
    "papermill": {
     "duration": 0.015513,
     "end_time": "2024-04-23T22:21:33.708898",
     "exception": false,
     "start_time": "2024-04-23T22:21:33.693385",
     "status": "completed"
    },
    "tags": []
   },
   "source": [
    "# 1. Módulo Projeto Python: Projeto final"
   ]
  },
  {
   "cell_type": "markdown",
   "id": "22694460",
   "metadata": {
    "id": "3lPc1ms0EnmN",
    "papermill": {
     "duration": 0.014959,
     "end_time": "2024-04-23T22:21:33.738992",
     "exception": false,
     "start_time": "2024-04-23T22:21:33.724033",
     "status": "completed"
    },
    "tags": []
   },
   "source": [
    "# 2. Descrição do problema"
   ]
  },
  {
   "cell_type": "markdown",
   "id": "0047e3d2",
   "metadata": {
    "id": "ovKroXma9o9n",
    "papermill": {
     "duration": 0.016797,
     "end_time": "2024-04-23T22:21:33.770679",
     "exception": false,
     "start_time": "2024-04-23T22:21:33.753882",
     "status": "completed"
    },
    "tags": []
   },
   "source": [
    "\n",
    "\n",
    "*   \n",
    "Neste projeto, nos propomos a explorar uma base de dados de crédito no formato CSV, que contém informações vitais sobre os clientes de uma instituição financeira. Entre todas as colunas disponíveis, destaca-se a 'default', fundamental para uma análise aprofundada, pois nela encontramos a distinção entre clientes adimplentes e inadimplentes. Esta distinção nos permite compreender os motivos pelos quais os clientes deixam de cumprir com suas obrigações financeiras, baseando-nos especialmente em variáveis como salário anual, nível de escolaridade e padrões de movimentação financeira. Ao explorar essa interação entre os diferentes atributos dos clientes e seu comportamento de pagamento, buscamos obter insights valiosos que contribuam para uma gestão mais eficaz do crédito e uma melhor compreensão dos riscos associados à concessão de empréstimos.\n",
    "\n"
   ]
  },
  {
   "cell_type": "markdown",
   "id": "5d4b4037",
   "metadata": {
    "id": "u_f0fwxTEzxm",
    "papermill": {
     "duration": 0.014454,
     "end_time": "2024-04-23T22:21:33.799769",
     "exception": false,
     "start_time": "2024-04-23T22:21:33.785315",
     "status": "completed"
    },
    "tags": []
   },
   "source": [
    "# 3. Importação de bibliotecas"
   ]
  },
  {
   "cell_type": "markdown",
   "id": "f8ef5fbd",
   "metadata": {
    "id": "VLa59GZgkzZB",
    "papermill": {
     "duration": 0.014787,
     "end_time": "2024-04-23T22:21:33.831684",
     "exception": false,
     "start_time": "2024-04-23T22:21:33.816897",
     "status": "completed"
    },
    "tags": []
   },
   "source": [
    "\n",
    "\n",
    "*   Pandas (utilizada na manipulação e exploração de dados)\n",
    "\n"
   ]
  },
  {
   "cell_type": "code",
   "execution_count": 1,
   "id": "f2196c46",
   "metadata": {
    "execution": {
     "iopub.execute_input": "2024-04-23T22:21:33.865103Z",
     "iopub.status.busy": "2024-04-23T22:21:33.864606Z",
     "iopub.status.idle": "2024-04-23T22:21:35.072129Z",
     "shell.execute_reply": "2024-04-23T22:21:35.070285Z"
    },
    "id": "IkGz2HUYFkwm",
    "papermill": {
     "duration": 1.227181,
     "end_time": "2024-04-23T22:21:35.075101",
     "exception": false,
     "start_time": "2024-04-23T22:21:33.847920",
     "status": "completed"
    },
    "tags": []
   },
   "outputs": [],
   "source": [
    "import pandas as pd"
   ]
  },
  {
   "cell_type": "markdown",
   "id": "1f0a1078",
   "metadata": {
    "id": "VAW1CnrwE7fV",
    "papermill": {
     "duration": 0.014867,
     "end_time": "2024-04-23T22:21:35.105653",
     "exception": false,
     "start_time": "2024-04-23T22:21:35.090786",
     "status": "completed"
    },
    "tags": []
   },
   "source": [
    "# 4. carregamento dos dados"
   ]
  },
  {
   "cell_type": "markdown",
   "id": "bd578544",
   "metadata": {
    "id": "OV29gEAsk_5W",
    "papermill": {
     "duration": 0.014245,
     "end_time": "2024-04-23T22:21:35.135104",
     "exception": false,
     "start_time": "2024-04-23T22:21:35.120859",
     "status": "completed"
    },
    "tags": []
   },
   "source": [
    "\n",
    "\n",
    "\n",
    "*   O arquivo **dados.csv** foi baixado no material do curso para a minha máquina local e posteriormente importado aqui no Google Colab para a realização da tarefa.\n",
    "*   O método **na_values='na'** irá fazer com que o pandas identifique todos os dados faltantes na base de dados e adicionará o valor na nos mesmos.\n",
    "\n"
   ]
  },
  {
   "cell_type": "code",
   "execution_count": 2,
   "id": "b0905159",
   "metadata": {
    "execution": {
     "iopub.execute_input": "2024-04-23T22:21:35.168086Z",
     "iopub.status.busy": "2024-04-23T22:21:35.166550Z",
     "iopub.status.idle": "2024-04-23T22:21:35.228685Z",
     "shell.execute_reply": "2024-04-23T22:21:35.227477Z"
    },
    "id": "n_GRlwwnFwLe",
    "papermill": {
     "duration": 0.081962,
     "end_time": "2024-04-23T22:21:35.231409",
     "exception": false,
     "start_time": "2024-04-23T22:21:35.149447",
     "status": "completed"
    },
    "tags": []
   },
   "outputs": [],
   "source": [
    "df = pd.read_csv('/kaggle/input/dataset-de-clientes-adimplentes-e-inadimplentes/dados.csv', na_values='na')"
   ]
  },
  {
   "cell_type": "markdown",
   "id": "2f31b772",
   "metadata": {
    "id": "QjB1Xn81FFbM",
    "papermill": {
     "duration": 0.017375,
     "end_time": "2024-04-23T22:21:35.264344",
     "exception": false,
     "start_time": "2024-04-23T22:21:35.246969",
     "status": "completed"
    },
    "tags": []
   },
   "source": [
    "# 5. Exploração de dados"
   ]
  },
  {
   "cell_type": "code",
   "execution_count": 3,
   "id": "19bee6f4",
   "metadata": {
    "execution": {
     "iopub.execute_input": "2024-04-23T22:21:35.300098Z",
     "iopub.status.busy": "2024-04-23T22:21:35.299565Z",
     "iopub.status.idle": "2024-04-23T22:21:35.340238Z",
     "shell.execute_reply": "2024-04-23T22:21:35.339358Z"
    },
    "id": "42wAcLVtJdDF",
    "outputId": "190bc911-4d41-4401-fa8c-9d03c3fe4d15",
    "papermill": {
     "duration": 0.06143,
     "end_time": "2024-04-23T22:21:35.342456",
     "exception": false,
     "start_time": "2024-04-23T22:21:35.281026",
     "status": "completed"
    },
    "tags": []
   },
   "outputs": [
    {
     "data": {
      "text/html": [
       "<div>\n",
       "<style scoped>\n",
       "    .dataframe tbody tr th:only-of-type {\n",
       "        vertical-align: middle;\n",
       "    }\n",
       "\n",
       "    .dataframe tbody tr th {\n",
       "        vertical-align: top;\n",
       "    }\n",
       "\n",
       "    .dataframe thead th {\n",
       "        text-align: right;\n",
       "    }\n",
       "</style>\n",
       "<table border=\"1\" class=\"dataframe\">\n",
       "  <thead>\n",
       "    <tr style=\"text-align: right;\">\n",
       "      <th></th>\n",
       "      <th>id</th>\n",
       "      <th>default</th>\n",
       "      <th>idade</th>\n",
       "      <th>sexo</th>\n",
       "      <th>dependentes</th>\n",
       "      <th>escolaridade</th>\n",
       "      <th>estado_civil</th>\n",
       "      <th>salario_anual</th>\n",
       "      <th>tipo_cartao</th>\n",
       "      <th>meses_de_relacionamento</th>\n",
       "      <th>qtd_produtos</th>\n",
       "      <th>iteracoes_12m</th>\n",
       "      <th>meses_inativo_12m</th>\n",
       "      <th>limite_credito</th>\n",
       "      <th>valor_transacoes_12m</th>\n",
       "      <th>qtd_transacoes_12m</th>\n",
       "    </tr>\n",
       "  </thead>\n",
       "  <tbody>\n",
       "    <tr>\n",
       "      <th>0</th>\n",
       "      <td>768805383</td>\n",
       "      <td>0</td>\n",
       "      <td>45</td>\n",
       "      <td>M</td>\n",
       "      <td>3</td>\n",
       "      <td>ensino medio</td>\n",
       "      <td>casado</td>\n",
       "      <td>$60K - $80K</td>\n",
       "      <td>blue</td>\n",
       "      <td>39</td>\n",
       "      <td>5</td>\n",
       "      <td>3</td>\n",
       "      <td>1</td>\n",
       "      <td>12.691,51</td>\n",
       "      <td>1.144,90</td>\n",
       "      <td>42</td>\n",
       "    </tr>\n",
       "    <tr>\n",
       "      <th>1</th>\n",
       "      <td>818770008</td>\n",
       "      <td>0</td>\n",
       "      <td>49</td>\n",
       "      <td>F</td>\n",
       "      <td>5</td>\n",
       "      <td>mestrado</td>\n",
       "      <td>solteiro</td>\n",
       "      <td>menos que $40K</td>\n",
       "      <td>blue</td>\n",
       "      <td>44</td>\n",
       "      <td>6</td>\n",
       "      <td>2</td>\n",
       "      <td>1</td>\n",
       "      <td>8.256,96</td>\n",
       "      <td>1.291,45</td>\n",
       "      <td>33</td>\n",
       "    </tr>\n",
       "    <tr>\n",
       "      <th>2</th>\n",
       "      <td>713982108</td>\n",
       "      <td>0</td>\n",
       "      <td>51</td>\n",
       "      <td>M</td>\n",
       "      <td>3</td>\n",
       "      <td>mestrado</td>\n",
       "      <td>casado</td>\n",
       "      <td>$80K - $120K</td>\n",
       "      <td>blue</td>\n",
       "      <td>36</td>\n",
       "      <td>4</td>\n",
       "      <td>0</td>\n",
       "      <td>1</td>\n",
       "      <td>3.418,56</td>\n",
       "      <td>1.887,72</td>\n",
       "      <td>20</td>\n",
       "    </tr>\n",
       "    <tr>\n",
       "      <th>3</th>\n",
       "      <td>769911858</td>\n",
       "      <td>0</td>\n",
       "      <td>40</td>\n",
       "      <td>F</td>\n",
       "      <td>4</td>\n",
       "      <td>ensino medio</td>\n",
       "      <td>NaN</td>\n",
       "      <td>menos que $40K</td>\n",
       "      <td>blue</td>\n",
       "      <td>34</td>\n",
       "      <td>3</td>\n",
       "      <td>1</td>\n",
       "      <td>4</td>\n",
       "      <td>3.313,03</td>\n",
       "      <td>1.171,56</td>\n",
       "      <td>20</td>\n",
       "    </tr>\n",
       "    <tr>\n",
       "      <th>4</th>\n",
       "      <td>709106358</td>\n",
       "      <td>0</td>\n",
       "      <td>40</td>\n",
       "      <td>M</td>\n",
       "      <td>3</td>\n",
       "      <td>sem educacao formal</td>\n",
       "      <td>casado</td>\n",
       "      <td>$60K - $80K</td>\n",
       "      <td>blue</td>\n",
       "      <td>21</td>\n",
       "      <td>5</td>\n",
       "      <td>0</td>\n",
       "      <td>1</td>\n",
       "      <td>4.716,22</td>\n",
       "      <td>816,08</td>\n",
       "      <td>28</td>\n",
       "    </tr>\n",
       "    <tr>\n",
       "      <th>...</th>\n",
       "      <td>...</td>\n",
       "      <td>...</td>\n",
       "      <td>...</td>\n",
       "      <td>...</td>\n",
       "      <td>...</td>\n",
       "      <td>...</td>\n",
       "      <td>...</td>\n",
       "      <td>...</td>\n",
       "      <td>...</td>\n",
       "      <td>...</td>\n",
       "      <td>...</td>\n",
       "      <td>...</td>\n",
       "      <td>...</td>\n",
       "      <td>...</td>\n",
       "      <td>...</td>\n",
       "      <td>...</td>\n",
       "    </tr>\n",
       "    <tr>\n",
       "      <th>495</th>\n",
       "      <td>716920908</td>\n",
       "      <td>0</td>\n",
       "      <td>52</td>\n",
       "      <td>M</td>\n",
       "      <td>4</td>\n",
       "      <td>ensino medio</td>\n",
       "      <td>casado</td>\n",
       "      <td>$80K - $120K</td>\n",
       "      <td>blue</td>\n",
       "      <td>42</td>\n",
       "      <td>6</td>\n",
       "      <td>0</td>\n",
       "      <td>1</td>\n",
       "      <td>5.738,38</td>\n",
       "      <td>1.922,73</td>\n",
       "      <td>48</td>\n",
       "    </tr>\n",
       "    <tr>\n",
       "      <th>496</th>\n",
       "      <td>708095133</td>\n",
       "      <td>0</td>\n",
       "      <td>43</td>\n",
       "      <td>M</td>\n",
       "      <td>4</td>\n",
       "      <td>NaN</td>\n",
       "      <td>NaN</td>\n",
       "      <td>$120K +</td>\n",
       "      <td>blue</td>\n",
       "      <td>34</td>\n",
       "      <td>5</td>\n",
       "      <td>2</td>\n",
       "      <td>2</td>\n",
       "      <td>33.304,71</td>\n",
       "      <td>1.448,54</td>\n",
       "      <td>29</td>\n",
       "    </tr>\n",
       "    <tr>\n",
       "      <th>497</th>\n",
       "      <td>711195558</td>\n",
       "      <td>0</td>\n",
       "      <td>59</td>\n",
       "      <td>M</td>\n",
       "      <td>1</td>\n",
       "      <td>graduacao</td>\n",
       "      <td>solteiro</td>\n",
       "      <td>$40K - $60K</td>\n",
       "      <td>blue</td>\n",
       "      <td>48</td>\n",
       "      <td>6</td>\n",
       "      <td>3</td>\n",
       "      <td>3</td>\n",
       "      <td>7.251,60</td>\n",
       "      <td>1.300,15</td>\n",
       "      <td>36</td>\n",
       "    </tr>\n",
       "    <tr>\n",
       "      <th>498</th>\n",
       "      <td>772735758</td>\n",
       "      <td>0</td>\n",
       "      <td>44</td>\n",
       "      <td>M</td>\n",
       "      <td>1</td>\n",
       "      <td>NaN</td>\n",
       "      <td>casado</td>\n",
       "      <td>NaN</td>\n",
       "      <td>blue</td>\n",
       "      <td>34</td>\n",
       "      <td>6</td>\n",
       "      <td>0</td>\n",
       "      <td>2</td>\n",
       "      <td>2.885,65</td>\n",
       "      <td>1.366,50</td>\n",
       "      <td>31</td>\n",
       "    </tr>\n",
       "    <tr>\n",
       "      <th>499</th>\n",
       "      <td>712024908</td>\n",
       "      <td>0</td>\n",
       "      <td>56</td>\n",
       "      <td>F</td>\n",
       "      <td>1</td>\n",
       "      <td>graduacao</td>\n",
       "      <td>casado</td>\n",
       "      <td>menos que $40K</td>\n",
       "      <td>blue</td>\n",
       "      <td>36</td>\n",
       "      <td>6</td>\n",
       "      <td>3</td>\n",
       "      <td>2</td>\n",
       "      <td>2.641,60</td>\n",
       "      <td>1.439,62</td>\n",
       "      <td>39</td>\n",
       "    </tr>\n",
       "  </tbody>\n",
       "</table>\n",
       "<p>500 rows × 16 columns</p>\n",
       "</div>"
      ],
      "text/plain": [
       "            id  default  idade sexo  dependentes         escolaridade  \\\n",
       "0    768805383        0     45    M            3         ensino medio   \n",
       "1    818770008        0     49    F            5             mestrado   \n",
       "2    713982108        0     51    M            3             mestrado   \n",
       "3    769911858        0     40    F            4         ensino medio   \n",
       "4    709106358        0     40    M            3  sem educacao formal   \n",
       "..         ...      ...    ...  ...          ...                  ...   \n",
       "495  716920908        0     52    M            4         ensino medio   \n",
       "496  708095133        0     43    M            4                  NaN   \n",
       "497  711195558        0     59    M            1            graduacao   \n",
       "498  772735758        0     44    M            1                  NaN   \n",
       "499  712024908        0     56    F            1            graduacao   \n",
       "\n",
       "    estado_civil   salario_anual tipo_cartao  meses_de_relacionamento  \\\n",
       "0         casado     $60K - $80K        blue                       39   \n",
       "1       solteiro  menos que $40K        blue                       44   \n",
       "2         casado    $80K - $120K        blue                       36   \n",
       "3            NaN  menos que $40K        blue                       34   \n",
       "4         casado     $60K - $80K        blue                       21   \n",
       "..           ...             ...         ...                      ...   \n",
       "495       casado    $80K - $120K        blue                       42   \n",
       "496          NaN         $120K +        blue                       34   \n",
       "497     solteiro     $40K - $60K        blue                       48   \n",
       "498       casado             NaN        blue                       34   \n",
       "499       casado  menos que $40K        blue                       36   \n",
       "\n",
       "     qtd_produtos  iteracoes_12m  meses_inativo_12m limite_credito  \\\n",
       "0               5              3                  1      12.691,51   \n",
       "1               6              2                  1       8.256,96   \n",
       "2               4              0                  1       3.418,56   \n",
       "3               3              1                  4       3.313,03   \n",
       "4               5              0                  1       4.716,22   \n",
       "..            ...            ...                ...            ...   \n",
       "495             6              0                  1       5.738,38   \n",
       "496             5              2                  2      33.304,71   \n",
       "497             6              3                  3       7.251,60   \n",
       "498             6              0                  2       2.885,65   \n",
       "499             6              3                  2       2.641,60   \n",
       "\n",
       "    valor_transacoes_12m  qtd_transacoes_12m  \n",
       "0               1.144,90                  42  \n",
       "1               1.291,45                  33  \n",
       "2               1.887,72                  20  \n",
       "3               1.171,56                  20  \n",
       "4                 816,08                  28  \n",
       "..                   ...                 ...  \n",
       "495             1.922,73                  48  \n",
       "496             1.448,54                  29  \n",
       "497             1.300,15                  36  \n",
       "498             1.366,50                  31  \n",
       "499             1.439,62                  39  \n",
       "\n",
       "[500 rows x 16 columns]"
      ]
     },
     "execution_count": 3,
     "metadata": {},
     "output_type": "execute_result"
    }
   ],
   "source": [
    "df.head(n=500)"
   ]
  },
  {
   "cell_type": "markdown",
   "id": "20ed49b6",
   "metadata": {
    "id": "GoHWFNWml6UH",
    "papermill": {
     "duration": 0.014751,
     "end_time": "2024-04-23T22:21:35.372469",
     "exception": false,
     "start_time": "2024-04-23T22:21:35.357718",
     "status": "completed"
    },
    "tags": []
   },
   "source": [
    "\n",
    "\n",
    "*   O método **df.info()** é responsável por listar todas as colunas da base de dados, juntamente com seus respectivos tipos de dados. Entretanto, ao executar este método, podemos observar um erro nos tipos de dados das colunas 'limite_credito' e 'valor_transacoes_12m'. Ambas são apresentadas como tipo 'object', quando na verdade deveriam ser do tipo 'float'.\n",
    "\n"
   ]
  },
  {
   "cell_type": "code",
   "execution_count": 4,
   "id": "e15dc08a",
   "metadata": {
    "execution": {
     "iopub.execute_input": "2024-04-23T22:21:35.405756Z",
     "iopub.status.busy": "2024-04-23T22:21:35.404423Z",
     "iopub.status.idle": "2024-04-23T22:21:35.445226Z",
     "shell.execute_reply": "2024-04-23T22:21:35.443517Z"
    },
    "id": "7_PCO2o9gA60",
    "outputId": "e916f1e4-6f51-48f7-9e32-9fc88007cd87",
    "papermill": {
     "duration": 0.060503,
     "end_time": "2024-04-23T22:21:35.448042",
     "exception": false,
     "start_time": "2024-04-23T22:21:35.387539",
     "status": "completed"
    },
    "tags": []
   },
   "outputs": [
    {
     "name": "stdout",
     "output_type": "stream",
     "text": [
      "<class 'pandas.core.frame.DataFrame'>\n",
      "RangeIndex: 10127 entries, 0 to 10126\n",
      "Data columns (total 16 columns):\n",
      " #   Column                   Non-Null Count  Dtype \n",
      "---  ------                   --------------  ----- \n",
      " 0   id                       10127 non-null  int64 \n",
      " 1   default                  10127 non-null  int64 \n",
      " 2   idade                    10127 non-null  int64 \n",
      " 3   sexo                     10127 non-null  object\n",
      " 4   dependentes              10127 non-null  int64 \n",
      " 5   escolaridade             8608 non-null   object\n",
      " 6   estado_civil             9378 non-null   object\n",
      " 7   salario_anual            9015 non-null   object\n",
      " 8   tipo_cartao              10127 non-null  object\n",
      " 9   meses_de_relacionamento  10127 non-null  int64 \n",
      " 10  qtd_produtos             10127 non-null  int64 \n",
      " 11  iteracoes_12m            10127 non-null  int64 \n",
      " 12  meses_inativo_12m        10127 non-null  int64 \n",
      " 13  limite_credito           10127 non-null  object\n",
      " 14  valor_transacoes_12m     10127 non-null  object\n",
      " 15  qtd_transacoes_12m       10127 non-null  int64 \n",
      "dtypes: int64(9), object(7)\n",
      "memory usage: 1.2+ MB\n"
     ]
    }
   ],
   "source": [
    "df.info()"
   ]
  },
  {
   "cell_type": "code",
   "execution_count": 5,
   "id": "19906282",
   "metadata": {
    "execution": {
     "iopub.execute_input": "2024-04-23T22:21:35.482419Z",
     "iopub.status.busy": "2024-04-23T22:21:35.481466Z",
     "iopub.status.idle": "2024-04-23T22:21:35.491298Z",
     "shell.execute_reply": "2024-04-23T22:21:35.489817Z"
    },
    "id": "JJQ6BW3kgICm",
    "outputId": "bfa21d27-eac1-41e0-b618-45051053aff6",
    "papermill": {
     "duration": 0.030037,
     "end_time": "2024-04-23T22:21:35.493880",
     "exception": false,
     "start_time": "2024-04-23T22:21:35.463843",
     "status": "completed"
    },
    "tags": []
   },
   "outputs": [
    {
     "data": {
      "text/plain": [
       "id                          int64\n",
       "default                     int64\n",
       "idade                       int64\n",
       "sexo                       object\n",
       "dependentes                 int64\n",
       "escolaridade               object\n",
       "estado_civil               object\n",
       "salario_anual              object\n",
       "tipo_cartao                object\n",
       "meses_de_relacionamento     int64\n",
       "qtd_produtos                int64\n",
       "iteracoes_12m               int64\n",
       "meses_inativo_12m           int64\n",
       "limite_credito             object\n",
       "valor_transacoes_12m       object\n",
       "qtd_transacoes_12m          int64\n",
       "dtype: object"
      ]
     },
     "execution_count": 5,
     "metadata": {},
     "output_type": "execute_result"
    }
   ],
   "source": [
    "df.dtypes"
   ]
  },
  {
   "cell_type": "code",
   "execution_count": 6,
   "id": "5356063a",
   "metadata": {
    "execution": {
     "iopub.execute_input": "2024-04-23T22:21:35.529955Z",
     "iopub.status.busy": "2024-04-23T22:21:35.528864Z",
     "iopub.status.idle": "2024-04-23T22:21:35.535156Z",
     "shell.execute_reply": "2024-04-23T22:21:35.534181Z"
    },
    "id": "ZNrpDC7UKhca",
    "outputId": "23cf3623-d5e9-461d-d7bb-a764ecd3ccb8",
    "papermill": {
     "duration": 0.026833,
     "end_time": "2024-04-23T22:21:35.537743",
     "exception": false,
     "start_time": "2024-04-23T22:21:35.510910",
     "status": "completed"
    },
    "tags": []
   },
   "outputs": [
    {
     "data": {
      "text/plain": [
       "(10127, 16)"
      ]
     },
     "execution_count": 6,
     "metadata": {},
     "output_type": "execute_result"
    }
   ],
   "source": [
    "df.shape # retorna uma tupla (qtd linhas, qtd colunas)"
   ]
  },
  {
   "cell_type": "markdown",
   "id": "4da49ba0",
   "metadata": {
    "id": "el1KA8HX21ca",
    "papermill": {
     "duration": 0.016329,
     "end_time": "2024-04-23T22:21:35.571695",
     "exception": false,
     "start_time": "2024-04-23T22:21:35.555366",
     "status": "completed"
    },
    "tags": []
   },
   "source": [
    "\n",
    "\n",
    "*   O item 'default' da tabela significa clientes adimplentes '0' ou inadimplentes '1'\n",
    "\n"
   ]
  },
  {
   "cell_type": "code",
   "execution_count": 7,
   "id": "f86e8d63",
   "metadata": {
    "execution": {
     "iopub.execute_input": "2024-04-23T22:21:35.606032Z",
     "iopub.status.busy": "2024-04-23T22:21:35.605598Z",
     "iopub.status.idle": "2024-04-23T22:21:35.614512Z",
     "shell.execute_reply": "2024-04-23T22:21:35.613151Z"
    },
    "id": "aaLfkc86Kxs3",
    "outputId": "2f6a7f93-8036-456a-83c9-5c2423366917",
    "papermill": {
     "duration": 0.029305,
     "end_time": "2024-04-23T22:21:35.616950",
     "exception": false,
     "start_time": "2024-04-23T22:21:35.587645",
     "status": "completed"
    },
    "tags": []
   },
   "outputs": [
    {
     "data": {
      "text/plain": [
       "(8500, 16)"
      ]
     },
     "execution_count": 7,
     "metadata": {},
     "output_type": "execute_result"
    }
   ],
   "source": [
    "df[df['default'] == 0].shape"
   ]
  },
  {
   "cell_type": "code",
   "execution_count": 8,
   "id": "54e72703",
   "metadata": {
    "execution": {
     "iopub.execute_input": "2024-04-23T22:21:35.650445Z",
     "iopub.status.busy": "2024-04-23T22:21:35.650023Z",
     "iopub.status.idle": "2024-04-23T22:21:35.658957Z",
     "shell.execute_reply": "2024-04-23T22:21:35.657602Z"
    },
    "id": "8qLo7g5MK5uY",
    "outputId": "cd1b109f-8adf-487d-a335-c6b87ece3ea8",
    "papermill": {
     "duration": 0.029065,
     "end_time": "2024-04-23T22:21:35.661619",
     "exception": false,
     "start_time": "2024-04-23T22:21:35.632554",
     "status": "completed"
    },
    "tags": []
   },
   "outputs": [
    {
     "data": {
      "text/plain": [
       "(1627, 16)"
      ]
     },
     "execution_count": 8,
     "metadata": {},
     "output_type": "execute_result"
    }
   ],
   "source": [
    "df[df['default'] == 1].shape"
   ]
  },
  {
   "cell_type": "code",
   "execution_count": 9,
   "id": "adf341fa",
   "metadata": {
    "execution": {
     "iopub.execute_input": "2024-04-23T22:21:35.697570Z",
     "iopub.status.busy": "2024-04-23T22:21:35.696703Z",
     "iopub.status.idle": "2024-04-23T22:21:35.706437Z",
     "shell.execute_reply": "2024-04-23T22:21:35.705170Z"
    },
    "id": "ZaoHTtUS3WM4",
    "papermill": {
     "duration": 0.03095,
     "end_time": "2024-04-23T22:21:35.708871",
     "exception": false,
     "start_time": "2024-04-23T22:21:35.677921",
     "status": "completed"
    },
    "tags": []
   },
   "outputs": [],
   "source": [
    "qtd_total, _ = df.shape\n",
    "qtd_adimplentes, _ = df[df['default'] == 0].shape\n",
    "qtd_inadimplentes, _ = df[df['default'] == 1].shape"
   ]
  },
  {
   "cell_type": "code",
   "execution_count": 10,
   "id": "28552eb5",
   "metadata": {
    "execution": {
     "iopub.execute_input": "2024-04-23T22:21:35.746246Z",
     "iopub.status.busy": "2024-04-23T22:21:35.744455Z",
     "iopub.status.idle": "2024-04-23T22:21:35.752814Z",
     "shell.execute_reply": "2024-04-23T22:21:35.751224Z"
    },
    "id": "rINSVcpe4E_R",
    "outputId": "adf9b59c-9946-4a4e-cd84-ea0dec3b3e19",
    "papermill": {
     "duration": 0.030601,
     "end_time": "2024-04-23T22:21:35.755699",
     "exception": false,
     "start_time": "2024-04-23T22:21:35.725098",
     "status": "completed"
    },
    "tags": []
   },
   "outputs": [
    {
     "name": "stdout",
     "output_type": "stream",
     "text": [
      "A proporção de clientes adimplentes é de 83.93%\n",
      "A proporção de clientes inadimplentes é de 16.07%\n"
     ]
    }
   ],
   "source": [
    "print(f\"A proporção de clientes adimplentes é de {round(100 * qtd_adimplentes / qtd_total, 2)}%\")\n",
    "print(f\"A proporção de clientes inadimplentes é de {round(100 * qtd_inadimplentes / qtd_total, 2)}%\")"
   ]
  },
  {
   "cell_type": "markdown",
   "id": "685f0e1d",
   "metadata": {
    "id": "nZkihK-GiR1r",
    "papermill": {
     "duration": 0.017436,
     "end_time": "2024-04-23T22:21:35.789976",
     "exception": false,
     "start_time": "2024-04-23T22:21:35.772540",
     "status": "completed"
    },
    "tags": []
   },
   "source": [
    "\n",
    "\n",
    "*   Atributos **categóricos**\n",
    "\n"
   ]
  },
  {
   "cell_type": "code",
   "execution_count": 11,
   "id": "41d65187",
   "metadata": {
    "execution": {
     "iopub.execute_input": "2024-04-23T22:21:35.886595Z",
     "iopub.status.busy": "2024-04-23T22:21:35.886171Z",
     "iopub.status.idle": "2024-04-23T22:21:35.932156Z",
     "shell.execute_reply": "2024-04-23T22:21:35.930745Z"
    },
    "id": "A5pGyg7tipSi",
    "outputId": "bb3c8880-6056-4850-e107-86a10925a614",
    "papermill": {
     "duration": 0.067824,
     "end_time": "2024-04-23T22:21:35.934945",
     "exception": false,
     "start_time": "2024-04-23T22:21:35.867121",
     "status": "completed"
    },
    "tags": []
   },
   "outputs": [
    {
     "data": {
      "text/html": [
       "<div>\n",
       "<style scoped>\n",
       "    .dataframe tbody tr th:only-of-type {\n",
       "        vertical-align: middle;\n",
       "    }\n",
       "\n",
       "    .dataframe tbody tr th {\n",
       "        vertical-align: top;\n",
       "    }\n",
       "\n",
       "    .dataframe thead th {\n",
       "        text-align: right;\n",
       "    }\n",
       "</style>\n",
       "<table border=\"1\" class=\"dataframe\">\n",
       "  <thead>\n",
       "    <tr style=\"text-align: right;\">\n",
       "      <th></th>\n",
       "      <th>count</th>\n",
       "      <th>unique</th>\n",
       "      <th>top</th>\n",
       "      <th>freq</th>\n",
       "    </tr>\n",
       "  </thead>\n",
       "  <tbody>\n",
       "    <tr>\n",
       "      <th>sexo</th>\n",
       "      <td>10127</td>\n",
       "      <td>2</td>\n",
       "      <td>F</td>\n",
       "      <td>5358</td>\n",
       "    </tr>\n",
       "    <tr>\n",
       "      <th>escolaridade</th>\n",
       "      <td>8608</td>\n",
       "      <td>5</td>\n",
       "      <td>mestrado</td>\n",
       "      <td>3128</td>\n",
       "    </tr>\n",
       "    <tr>\n",
       "      <th>estado_civil</th>\n",
       "      <td>9378</td>\n",
       "      <td>3</td>\n",
       "      <td>casado</td>\n",
       "      <td>4687</td>\n",
       "    </tr>\n",
       "    <tr>\n",
       "      <th>salario_anual</th>\n",
       "      <td>9015</td>\n",
       "      <td>5</td>\n",
       "      <td>menos que $40K</td>\n",
       "      <td>3561</td>\n",
       "    </tr>\n",
       "    <tr>\n",
       "      <th>tipo_cartao</th>\n",
       "      <td>10127</td>\n",
       "      <td>4</td>\n",
       "      <td>blue</td>\n",
       "      <td>9436</td>\n",
       "    </tr>\n",
       "    <tr>\n",
       "      <th>limite_credito</th>\n",
       "      <td>10127</td>\n",
       "      <td>9272</td>\n",
       "      <td>1.438,21</td>\n",
       "      <td>11</td>\n",
       "    </tr>\n",
       "    <tr>\n",
       "      <th>valor_transacoes_12m</th>\n",
       "      <td>10127</td>\n",
       "      <td>10035</td>\n",
       "      <td>3.851,51</td>\n",
       "      <td>3</td>\n",
       "    </tr>\n",
       "  </tbody>\n",
       "</table>\n",
       "</div>"
      ],
      "text/plain": [
       "                      count unique             top  freq\n",
       "sexo                  10127      2               F  5358\n",
       "escolaridade           8608      5        mestrado  3128\n",
       "estado_civil           9378      3          casado  4687\n",
       "salario_anual          9015      5  menos que $40K  3561\n",
       "tipo_cartao           10127      4            blue  9436\n",
       "limite_credito        10127   9272        1.438,21    11\n",
       "valor_transacoes_12m  10127  10035        3.851,51     3"
      ]
     },
     "execution_count": 11,
     "metadata": {},
     "output_type": "execute_result"
    }
   ],
   "source": [
    "df.select_dtypes('object').describe().transpose()"
   ]
  },
  {
   "cell_type": "markdown",
   "id": "6333cafd",
   "metadata": {
    "id": "CrFQSj6BjhSr",
    "papermill": {
     "duration": 0.016927,
     "end_time": "2024-04-23T22:21:35.970319",
     "exception": false,
     "start_time": "2024-04-23T22:21:35.953392",
     "status": "completed"
    },
    "tags": []
   },
   "source": [
    "\n",
    "\n",
    "*   Atributos **numéricos**\n",
    "\n"
   ]
  },
  {
   "cell_type": "code",
   "execution_count": 12,
   "id": "026d75a2",
   "metadata": {
    "execution": {
     "iopub.execute_input": "2024-04-23T22:21:36.005583Z",
     "iopub.status.busy": "2024-04-23T22:21:36.005186Z",
     "iopub.status.idle": "2024-04-23T22:21:36.055469Z",
     "shell.execute_reply": "2024-04-23T22:21:36.054101Z"
    },
    "id": "L_seRwD6kIHC",
    "outputId": "2720be0c-be3e-436d-9549-784f94c57ded",
    "papermill": {
     "duration": 0.071337,
     "end_time": "2024-04-23T22:21:36.058169",
     "exception": false,
     "start_time": "2024-04-23T22:21:35.986832",
     "status": "completed"
    },
    "tags": []
   },
   "outputs": [
    {
     "data": {
      "text/html": [
       "<div>\n",
       "<style scoped>\n",
       "    .dataframe tbody tr th:only-of-type {\n",
       "        vertical-align: middle;\n",
       "    }\n",
       "\n",
       "    .dataframe tbody tr th {\n",
       "        vertical-align: top;\n",
       "    }\n",
       "\n",
       "    .dataframe thead th {\n",
       "        text-align: right;\n",
       "    }\n",
       "</style>\n",
       "<table border=\"1\" class=\"dataframe\">\n",
       "  <thead>\n",
       "    <tr style=\"text-align: right;\">\n",
       "      <th></th>\n",
       "      <th>count</th>\n",
       "      <th>mean</th>\n",
       "      <th>std</th>\n",
       "      <th>min</th>\n",
       "      <th>25%</th>\n",
       "      <th>50%</th>\n",
       "      <th>75%</th>\n",
       "      <th>max</th>\n",
       "    </tr>\n",
       "  </thead>\n",
       "  <tbody>\n",
       "    <tr>\n",
       "      <th>default</th>\n",
       "      <td>10127.0</td>\n",
       "      <td>0.160660</td>\n",
       "      <td>0.367235</td>\n",
       "      <td>0.0</td>\n",
       "      <td>0.0</td>\n",
       "      <td>0.0</td>\n",
       "      <td>0.0</td>\n",
       "      <td>1.0</td>\n",
       "    </tr>\n",
       "    <tr>\n",
       "      <th>idade</th>\n",
       "      <td>10127.0</td>\n",
       "      <td>46.325960</td>\n",
       "      <td>8.016814</td>\n",
       "      <td>26.0</td>\n",
       "      <td>41.0</td>\n",
       "      <td>46.0</td>\n",
       "      <td>52.0</td>\n",
       "      <td>73.0</td>\n",
       "    </tr>\n",
       "    <tr>\n",
       "      <th>dependentes</th>\n",
       "      <td>10127.0</td>\n",
       "      <td>2.346203</td>\n",
       "      <td>1.298908</td>\n",
       "      <td>0.0</td>\n",
       "      <td>1.0</td>\n",
       "      <td>2.0</td>\n",
       "      <td>3.0</td>\n",
       "      <td>5.0</td>\n",
       "    </tr>\n",
       "    <tr>\n",
       "      <th>meses_de_relacionamento</th>\n",
       "      <td>10127.0</td>\n",
       "      <td>35.928409</td>\n",
       "      <td>7.986416</td>\n",
       "      <td>13.0</td>\n",
       "      <td>31.0</td>\n",
       "      <td>36.0</td>\n",
       "      <td>40.0</td>\n",
       "      <td>56.0</td>\n",
       "    </tr>\n",
       "    <tr>\n",
       "      <th>qtd_produtos</th>\n",
       "      <td>10127.0</td>\n",
       "      <td>3.812580</td>\n",
       "      <td>1.554408</td>\n",
       "      <td>1.0</td>\n",
       "      <td>3.0</td>\n",
       "      <td>4.0</td>\n",
       "      <td>5.0</td>\n",
       "      <td>6.0</td>\n",
       "    </tr>\n",
       "    <tr>\n",
       "      <th>iteracoes_12m</th>\n",
       "      <td>10127.0</td>\n",
       "      <td>2.455317</td>\n",
       "      <td>1.106225</td>\n",
       "      <td>0.0</td>\n",
       "      <td>2.0</td>\n",
       "      <td>2.0</td>\n",
       "      <td>3.0</td>\n",
       "      <td>6.0</td>\n",
       "    </tr>\n",
       "    <tr>\n",
       "      <th>meses_inativo_12m</th>\n",
       "      <td>10127.0</td>\n",
       "      <td>2.341167</td>\n",
       "      <td>1.010622</td>\n",
       "      <td>0.0</td>\n",
       "      <td>2.0</td>\n",
       "      <td>2.0</td>\n",
       "      <td>3.0</td>\n",
       "      <td>6.0</td>\n",
       "    </tr>\n",
       "    <tr>\n",
       "      <th>qtd_transacoes_12m</th>\n",
       "      <td>10127.0</td>\n",
       "      <td>64.858695</td>\n",
       "      <td>23.472570</td>\n",
       "      <td>10.0</td>\n",
       "      <td>45.0</td>\n",
       "      <td>67.0</td>\n",
       "      <td>81.0</td>\n",
       "      <td>139.0</td>\n",
       "    </tr>\n",
       "  </tbody>\n",
       "</table>\n",
       "</div>"
      ],
      "text/plain": [
       "                           count       mean        std   min   25%   50%  \\\n",
       "default                  10127.0   0.160660   0.367235   0.0   0.0   0.0   \n",
       "idade                    10127.0  46.325960   8.016814  26.0  41.0  46.0   \n",
       "dependentes              10127.0   2.346203   1.298908   0.0   1.0   2.0   \n",
       "meses_de_relacionamento  10127.0  35.928409   7.986416  13.0  31.0  36.0   \n",
       "qtd_produtos             10127.0   3.812580   1.554408   1.0   3.0   4.0   \n",
       "iteracoes_12m            10127.0   2.455317   1.106225   0.0   2.0   2.0   \n",
       "meses_inativo_12m        10127.0   2.341167   1.010622   0.0   2.0   2.0   \n",
       "qtd_transacoes_12m       10127.0  64.858695  23.472570  10.0  45.0  67.0   \n",
       "\n",
       "                          75%    max  \n",
       "default                   0.0    1.0  \n",
       "idade                    52.0   73.0  \n",
       "dependentes               3.0    5.0  \n",
       "meses_de_relacionamento  40.0   56.0  \n",
       "qtd_produtos              5.0    6.0  \n",
       "iteracoes_12m             3.0    6.0  \n",
       "meses_inativo_12m         3.0    6.0  \n",
       "qtd_transacoes_12m       81.0  139.0  "
      ]
     },
     "execution_count": 12,
     "metadata": {},
     "output_type": "execute_result"
    }
   ],
   "source": [
    "df.drop('id', axis=1).select_dtypes('number').describe().transpose()"
   ]
  },
  {
   "cell_type": "markdown",
   "id": "0d403392",
   "metadata": {
    "id": "xtHGXMNgFNRV",
    "papermill": {
     "duration": 0.016567,
     "end_time": "2024-04-23T22:21:36.091739",
     "exception": false,
     "start_time": "2024-04-23T22:21:36.075172",
     "status": "completed"
    },
    "tags": []
   },
   "source": [
    "# 6. Limpeza e transformação de dados"
   ]
  },
  {
   "cell_type": "code",
   "execution_count": 13,
   "id": "ab569aca",
   "metadata": {
    "execution": {
     "iopub.execute_input": "2024-04-23T22:21:36.126256Z",
     "iopub.status.busy": "2024-04-23T22:21:36.125882Z",
     "iopub.status.idle": "2024-04-23T22:21:36.143572Z",
     "shell.execute_reply": "2024-04-23T22:21:36.142304Z"
    },
    "id": "Ie7legO-pMZd",
    "outputId": "70d23598-91f8-4196-e40e-b9efbd58f365",
    "papermill": {
     "duration": 0.037841,
     "end_time": "2024-04-23T22:21:36.146040",
     "exception": false,
     "start_time": "2024-04-23T22:21:36.108199",
     "status": "completed"
    },
    "tags": []
   },
   "outputs": [
    {
     "data": {
      "text/html": [
       "<div>\n",
       "<style scoped>\n",
       "    .dataframe tbody tr th:only-of-type {\n",
       "        vertical-align: middle;\n",
       "    }\n",
       "\n",
       "    .dataframe tbody tr th {\n",
       "        vertical-align: top;\n",
       "    }\n",
       "\n",
       "    .dataframe thead th {\n",
       "        text-align: right;\n",
       "    }\n",
       "</style>\n",
       "<table border=\"1\" class=\"dataframe\">\n",
       "  <thead>\n",
       "    <tr style=\"text-align: right;\">\n",
       "      <th></th>\n",
       "      <th>id</th>\n",
       "      <th>default</th>\n",
       "      <th>idade</th>\n",
       "      <th>sexo</th>\n",
       "      <th>dependentes</th>\n",
       "      <th>escolaridade</th>\n",
       "      <th>estado_civil</th>\n",
       "      <th>salario_anual</th>\n",
       "      <th>tipo_cartao</th>\n",
       "      <th>meses_de_relacionamento</th>\n",
       "      <th>qtd_produtos</th>\n",
       "      <th>iteracoes_12m</th>\n",
       "      <th>meses_inativo_12m</th>\n",
       "      <th>limite_credito</th>\n",
       "      <th>valor_transacoes_12m</th>\n",
       "      <th>qtd_transacoes_12m</th>\n",
       "    </tr>\n",
       "  </thead>\n",
       "  <tbody>\n",
       "    <tr>\n",
       "      <th>0</th>\n",
       "      <td>768805383</td>\n",
       "      <td>0</td>\n",
       "      <td>45</td>\n",
       "      <td>M</td>\n",
       "      <td>3</td>\n",
       "      <td>ensino medio</td>\n",
       "      <td>casado</td>\n",
       "      <td>$60K - $80K</td>\n",
       "      <td>blue</td>\n",
       "      <td>39</td>\n",
       "      <td>5</td>\n",
       "      <td>3</td>\n",
       "      <td>1</td>\n",
       "      <td>12.691,51</td>\n",
       "      <td>1.144,90</td>\n",
       "      <td>42</td>\n",
       "    </tr>\n",
       "    <tr>\n",
       "      <th>1</th>\n",
       "      <td>818770008</td>\n",
       "      <td>0</td>\n",
       "      <td>49</td>\n",
       "      <td>F</td>\n",
       "      <td>5</td>\n",
       "      <td>mestrado</td>\n",
       "      <td>solteiro</td>\n",
       "      <td>menos que $40K</td>\n",
       "      <td>blue</td>\n",
       "      <td>44</td>\n",
       "      <td>6</td>\n",
       "      <td>2</td>\n",
       "      <td>1</td>\n",
       "      <td>8.256,96</td>\n",
       "      <td>1.291,45</td>\n",
       "      <td>33</td>\n",
       "    </tr>\n",
       "    <tr>\n",
       "      <th>2</th>\n",
       "      <td>713982108</td>\n",
       "      <td>0</td>\n",
       "      <td>51</td>\n",
       "      <td>M</td>\n",
       "      <td>3</td>\n",
       "      <td>mestrado</td>\n",
       "      <td>casado</td>\n",
       "      <td>$80K - $120K</td>\n",
       "      <td>blue</td>\n",
       "      <td>36</td>\n",
       "      <td>4</td>\n",
       "      <td>0</td>\n",
       "      <td>1</td>\n",
       "      <td>3.418,56</td>\n",
       "      <td>1.887,72</td>\n",
       "      <td>20</td>\n",
       "    </tr>\n",
       "    <tr>\n",
       "      <th>3</th>\n",
       "      <td>769911858</td>\n",
       "      <td>0</td>\n",
       "      <td>40</td>\n",
       "      <td>F</td>\n",
       "      <td>4</td>\n",
       "      <td>ensino medio</td>\n",
       "      <td>NaN</td>\n",
       "      <td>menos que $40K</td>\n",
       "      <td>blue</td>\n",
       "      <td>34</td>\n",
       "      <td>3</td>\n",
       "      <td>1</td>\n",
       "      <td>4</td>\n",
       "      <td>3.313,03</td>\n",
       "      <td>1.171,56</td>\n",
       "      <td>20</td>\n",
       "    </tr>\n",
       "    <tr>\n",
       "      <th>4</th>\n",
       "      <td>709106358</td>\n",
       "      <td>0</td>\n",
       "      <td>40</td>\n",
       "      <td>M</td>\n",
       "      <td>3</td>\n",
       "      <td>sem educacao formal</td>\n",
       "      <td>casado</td>\n",
       "      <td>$60K - $80K</td>\n",
       "      <td>blue</td>\n",
       "      <td>21</td>\n",
       "      <td>5</td>\n",
       "      <td>0</td>\n",
       "      <td>1</td>\n",
       "      <td>4.716,22</td>\n",
       "      <td>816,08</td>\n",
       "      <td>28</td>\n",
       "    </tr>\n",
       "  </tbody>\n",
       "</table>\n",
       "</div>"
      ],
      "text/plain": [
       "          id  default  idade sexo  dependentes         escolaridade  \\\n",
       "0  768805383        0     45    M            3         ensino medio   \n",
       "1  818770008        0     49    F            5             mestrado   \n",
       "2  713982108        0     51    M            3             mestrado   \n",
       "3  769911858        0     40    F            4         ensino medio   \n",
       "4  709106358        0     40    M            3  sem educacao formal   \n",
       "\n",
       "  estado_civil   salario_anual tipo_cartao  meses_de_relacionamento  \\\n",
       "0       casado     $60K - $80K        blue                       39   \n",
       "1     solteiro  menos que $40K        blue                       44   \n",
       "2       casado    $80K - $120K        blue                       36   \n",
       "3          NaN  menos que $40K        blue                       34   \n",
       "4       casado     $60K - $80K        blue                       21   \n",
       "\n",
       "   qtd_produtos  iteracoes_12m  meses_inativo_12m limite_credito  \\\n",
       "0             5              3                  1      12.691,51   \n",
       "1             6              2                  1       8.256,96   \n",
       "2             4              0                  1       3.418,56   \n",
       "3             3              1                  4       3.313,03   \n",
       "4             5              0                  1       4.716,22   \n",
       "\n",
       "  valor_transacoes_12m  qtd_transacoes_12m  \n",
       "0             1.144,90                  42  \n",
       "1             1.291,45                  33  \n",
       "2             1.887,72                  20  \n",
       "3             1.171,56                  20  \n",
       "4               816,08                  28  "
      ]
     },
     "execution_count": 13,
     "metadata": {},
     "output_type": "execute_result"
    }
   ],
   "source": [
    "df.head()"
   ]
  },
  {
   "cell_type": "markdown",
   "id": "730ecc27",
   "metadata": {
    "id": "VbCZbKpbnEFm",
    "papermill": {
     "duration": 0.016922,
     "end_time": "2024-04-23T22:21:36.180284",
     "exception": false,
     "start_time": "2024-04-23T22:21:36.163362",
     "status": "completed"
    },
    "tags": []
   },
   "source": [
    "\n",
    "\n",
    "*   O método **df.isna().any()** da biblioteca Pandas é utilizado para verificar se há valores ausentes em um DataFrame. Ele retorna uma série booleana que indica se cada coluna do DataFrame possui pelo menos um valor ausente (NaN). Se o valor retornado for True para uma coluna, isso significa que a coluna tem pelo menos um valor ausente; caso contrário, significa que não há valores ausentes nessa coluna. Este método é útil para identificar rapidamente as colunas que contêm valores ausentes em um conjunto de dados.\n",
    "\n"
   ]
  },
  {
   "cell_type": "code",
   "execution_count": 14,
   "id": "b9a7f5a6",
   "metadata": {
    "execution": {
     "iopub.execute_input": "2024-04-23T22:21:36.216984Z",
     "iopub.status.busy": "2024-04-23T22:21:36.216553Z",
     "iopub.status.idle": "2024-04-23T22:21:36.230341Z",
     "shell.execute_reply": "2024-04-23T22:21:36.228875Z"
    },
    "id": "Otz2iZRXpPG1",
    "outputId": "b95f7783-eb0f-464c-fa2a-b292498533ce",
    "papermill": {
     "duration": 0.035576,
     "end_time": "2024-04-23T22:21:36.232934",
     "exception": false,
     "start_time": "2024-04-23T22:21:36.197358",
     "status": "completed"
    },
    "tags": []
   },
   "outputs": [
    {
     "data": {
      "text/plain": [
       "id                         False\n",
       "default                    False\n",
       "idade                      False\n",
       "sexo                       False\n",
       "dependentes                False\n",
       "escolaridade                True\n",
       "estado_civil                True\n",
       "salario_anual               True\n",
       "tipo_cartao                False\n",
       "meses_de_relacionamento    False\n",
       "qtd_produtos               False\n",
       "iteracoes_12m              False\n",
       "meses_inativo_12m          False\n",
       "limite_credito             False\n",
       "valor_transacoes_12m       False\n",
       "qtd_transacoes_12m         False\n",
       "dtype: bool"
      ]
     },
     "execution_count": 14,
     "metadata": {},
     "output_type": "execute_result"
    }
   ],
   "source": [
    "df.isna().any()"
   ]
  },
  {
   "cell_type": "markdown",
   "id": "e67a2285",
   "metadata": {
    "id": "oFMBuz3kpZZk",
    "papermill": {
     "duration": 0.017078,
     "end_time": "2024-04-23T22:21:36.268099",
     "exception": false,
     "start_time": "2024-04-23T22:21:36.251021",
     "status": "completed"
    },
    "tags": []
   },
   "source": [
    "\n",
    "\n",
    "*   Observe no resultado gerado acima que os valores 'TRUE' significam que estão faltando dados nessas colunas, ou seja, o mesmo deve ser tratado para corrigir essa falha.\n",
    "\n"
   ]
  },
  {
   "cell_type": "markdown",
   "id": "7ea0a904",
   "metadata": {
    "id": "SFVo8SgDD0ZR",
    "papermill": {
     "duration": 0.017253,
     "end_time": "2024-04-23T22:21:36.303657",
     "exception": false,
     "start_time": "2024-04-23T22:21:36.286404",
     "status": "completed"
    },
    "tags": []
   },
   "source": [
    "\n",
    "\n",
    "*   A função abaixo levanta algumas estatísticas dos dados faltantes.\n",
    "\n"
   ]
  },
  {
   "cell_type": "code",
   "execution_count": 15,
   "id": "80aef7c4",
   "metadata": {
    "execution": {
     "iopub.execute_input": "2024-04-23T22:21:36.340527Z",
     "iopub.status.busy": "2024-04-23T22:21:36.340114Z",
     "iopub.status.idle": "2024-04-23T22:21:36.347701Z",
     "shell.execute_reply": "2024-04-23T22:21:36.346082Z"
    },
    "id": "-VkAhY6SD-Tp",
    "papermill": {
     "duration": 0.0294,
     "end_time": "2024-04-23T22:21:36.350607",
     "exception": false,
     "start_time": "2024-04-23T22:21:36.321207",
     "status": "completed"
    },
    "tags": []
   },
   "outputs": [],
   "source": [
    "def dados_faltantes(df: pd.DataFrame) -> None:\n",
    "  dados_faltantes = []\n",
    "  for col in df.columns:\n",
    "    if df[col].isna().any():\n",
    "      qtd, _ = df[df[col].isna()].shape\n",
    "      total, _ = df.shape\n",
    "      dict_dados_faltantes = {col: {'quantidade': qtd, \"porcentagem\": round(100 * qtd/total, 2)}}\n",
    "      dados_faltantes.append(dict_dados_faltantes)\n",
    "  for stat in dados_faltantes:\n",
    "    print(stat)"
   ]
  },
  {
   "cell_type": "code",
   "execution_count": 16,
   "id": "69ff8c13",
   "metadata": {
    "execution": {
     "iopub.execute_input": "2024-04-23T22:21:36.387297Z",
     "iopub.status.busy": "2024-04-23T22:21:36.386899Z",
     "iopub.status.idle": "2024-04-23T22:21:36.404881Z",
     "shell.execute_reply": "2024-04-23T22:21:36.403193Z"
    },
    "id": "jHD2BBK2H2j-",
    "outputId": "2544d196-56ed-4fe6-ab98-68e04c2c0c72",
    "papermill": {
     "duration": 0.039517,
     "end_time": "2024-04-23T22:21:36.407512",
     "exception": false,
     "start_time": "2024-04-23T22:21:36.367995",
     "status": "completed"
    },
    "tags": []
   },
   "outputs": [
    {
     "name": "stdout",
     "output_type": "stream",
     "text": [
      "{'escolaridade': {'quantidade': 1519, 'porcentagem': 15.0}}\n",
      "{'estado_civil': {'quantidade': 749, 'porcentagem': 7.4}}\n",
      "{'salario_anual': {'quantidade': 1112, 'porcentagem': 10.98}}\n"
     ]
    }
   ],
   "source": [
    "dados_faltantes(df=df)"
   ]
  },
  {
   "cell_type": "code",
   "execution_count": 17,
   "id": "1351ac66",
   "metadata": {
    "execution": {
     "iopub.execute_input": "2024-04-23T22:21:36.447751Z",
     "iopub.status.busy": "2024-04-23T22:21:36.447348Z",
     "iopub.status.idle": "2024-04-23T22:21:36.464415Z",
     "shell.execute_reply": "2024-04-23T22:21:36.463052Z"
    },
    "id": "4Kh3Z6S1H7kt",
    "outputId": "8be511f1-ab1d-4fa0-a8a1-fad114aa8269",
    "papermill": {
     "duration": 0.038813,
     "end_time": "2024-04-23T22:21:36.467081",
     "exception": false,
     "start_time": "2024-04-23T22:21:36.428268",
     "status": "completed"
    },
    "tags": []
   },
   "outputs": [
    {
     "name": "stdout",
     "output_type": "stream",
     "text": [
      "{'escolaridade': {'quantidade': 1263, 'porcentagem': 14.86}}\n",
      "{'estado_civil': {'quantidade': 620, 'porcentagem': 7.29}}\n",
      "{'salario_anual': {'quantidade': 925, 'porcentagem': 10.88}}\n"
     ]
    }
   ],
   "source": [
    "dados_faltantes(df=df[df['default'] == 0])"
   ]
  },
  {
   "cell_type": "code",
   "execution_count": 18,
   "id": "1b5fa13a",
   "metadata": {
    "execution": {
     "iopub.execute_input": "2024-04-23T22:21:36.504165Z",
     "iopub.status.busy": "2024-04-23T22:21:36.503249Z",
     "iopub.status.idle": "2024-04-23T22:21:36.518180Z",
     "shell.execute_reply": "2024-04-23T22:21:36.516886Z"
    },
    "id": "RHoA8HV_IFn9",
    "outputId": "68e57d63-d85b-411c-90bd-671afa4969eb",
    "papermill": {
     "duration": 0.036293,
     "end_time": "2024-04-23T22:21:36.520891",
     "exception": false,
     "start_time": "2024-04-23T22:21:36.484598",
     "status": "completed"
    },
    "tags": []
   },
   "outputs": [
    {
     "name": "stdout",
     "output_type": "stream",
     "text": [
      "{'escolaridade': {'quantidade': 256, 'porcentagem': 15.73}}\n",
      "{'estado_civil': {'quantidade': 129, 'porcentagem': 7.93}}\n",
      "{'salario_anual': {'quantidade': 187, 'porcentagem': 11.49}}\n"
     ]
    }
   ],
   "source": [
    "dados_faltantes(df=df[df['default'] == 1])"
   ]
  },
  {
   "cell_type": "markdown",
   "id": "0ea0caea",
   "metadata": {
    "id": "fcvgXN-4IQrn",
    "papermill": {
     "duration": 0.017872,
     "end_time": "2024-04-23T22:21:36.556840",
     "exception": false,
     "start_time": "2024-04-23T22:21:36.538968",
     "status": "completed"
    },
    "tags": []
   },
   "source": [
    "\n",
    "\n",
    "*   Limpando dados abaixo\n",
    "\n"
   ]
  },
  {
   "cell_type": "markdown",
   "id": "3ea64b3a",
   "metadata": {
    "id": "n71yJPYkdEwG",
    "papermill": {
     "duration": 0.017651,
     "end_time": "2024-04-23T22:21:36.592301",
     "exception": false,
     "start_time": "2024-04-23T22:21:36.574650",
     "status": "completed"
    },
    "tags": []
   },
   "source": [
    "Nessa etapa de exploração, notei que as colunas de limite_credito e valor_transacoes_12m era do tipo (dtype = object)."
   ]
  },
  {
   "cell_type": "code",
   "execution_count": 19,
   "id": "a29b92f7",
   "metadata": {
    "execution": {
     "iopub.execute_input": "2024-04-23T22:21:36.630255Z",
     "iopub.status.busy": "2024-04-23T22:21:36.629713Z",
     "iopub.status.idle": "2024-04-23T22:21:36.639186Z",
     "shell.execute_reply": "2024-04-23T22:21:36.638076Z"
    },
    "id": "OIOT6U29dFsW",
    "outputId": "48dc9744-2683-44f2-fae2-cda8e6dd0d2e",
    "papermill": {
     "duration": 0.030895,
     "end_time": "2024-04-23T22:21:36.641505",
     "exception": false,
     "start_time": "2024-04-23T22:21:36.610610",
     "status": "completed"
    },
    "tags": []
   },
   "outputs": [
    {
     "data": {
      "text/plain": [
       "limite_credito          object\n",
       "valor_transacoes_12m    object\n",
       "dtype: object"
      ]
     },
     "execution_count": 19,
     "metadata": {},
     "output_type": "execute_result"
    }
   ],
   "source": [
    "df[['limite_credito', 'valor_transacoes_12m']].dtypes"
   ]
  },
  {
   "cell_type": "code",
   "execution_count": 20,
   "id": "6524fa05",
   "metadata": {
    "execution": {
     "iopub.execute_input": "2024-04-23T22:21:36.678061Z",
     "iopub.status.busy": "2024-04-23T22:21:36.677213Z",
     "iopub.status.idle": "2024-04-23T22:21:36.688687Z",
     "shell.execute_reply": "2024-04-23T22:21:36.687392Z"
    },
    "id": "g1VpFgS2fpTN",
    "outputId": "64d60c22-de77-48f8-ad3b-a9cb31fc86ef",
    "papermill": {
     "duration": 0.032365,
     "end_time": "2024-04-23T22:21:36.691010",
     "exception": false,
     "start_time": "2024-04-23T22:21:36.658645",
     "status": "completed"
    },
    "tags": []
   },
   "outputs": [
    {
     "data": {
      "text/html": [
       "<div>\n",
       "<style scoped>\n",
       "    .dataframe tbody tr th:only-of-type {\n",
       "        vertical-align: middle;\n",
       "    }\n",
       "\n",
       "    .dataframe tbody tr th {\n",
       "        vertical-align: top;\n",
       "    }\n",
       "\n",
       "    .dataframe thead th {\n",
       "        text-align: right;\n",
       "    }\n",
       "</style>\n",
       "<table border=\"1\" class=\"dataframe\">\n",
       "  <thead>\n",
       "    <tr style=\"text-align: right;\">\n",
       "      <th></th>\n",
       "      <th>limite_credito</th>\n",
       "      <th>valor_transacoes_12m</th>\n",
       "    </tr>\n",
       "  </thead>\n",
       "  <tbody>\n",
       "    <tr>\n",
       "      <th>0</th>\n",
       "      <td>12.691,51</td>\n",
       "      <td>1.144,90</td>\n",
       "    </tr>\n",
       "    <tr>\n",
       "      <th>1</th>\n",
       "      <td>8.256,96</td>\n",
       "      <td>1.291,45</td>\n",
       "    </tr>\n",
       "    <tr>\n",
       "      <th>2</th>\n",
       "      <td>3.418,56</td>\n",
       "      <td>1.887,72</td>\n",
       "    </tr>\n",
       "    <tr>\n",
       "      <th>3</th>\n",
       "      <td>3.313,03</td>\n",
       "      <td>1.171,56</td>\n",
       "    </tr>\n",
       "    <tr>\n",
       "      <th>4</th>\n",
       "      <td>4.716,22</td>\n",
       "      <td>816,08</td>\n",
       "    </tr>\n",
       "  </tbody>\n",
       "</table>\n",
       "</div>"
      ],
      "text/plain": [
       "  limite_credito valor_transacoes_12m\n",
       "0      12.691,51             1.144,90\n",
       "1       8.256,96             1.291,45\n",
       "2       3.418,56             1.887,72\n",
       "3       3.313,03             1.171,56\n",
       "4       4.716,22               816,08"
      ]
     },
     "execution_count": 20,
     "metadata": {},
     "output_type": "execute_result"
    }
   ],
   "source": [
    "df[['limite_credito', 'valor_transacoes_12m']].head()"
   ]
  },
  {
   "cell_type": "markdown",
   "id": "53ae863f",
   "metadata": {
    "id": "tU3t3uuVf0Mk",
    "papermill": {
     "duration": 0.017397,
     "end_time": "2024-04-23T22:21:36.726561",
     "exception": false,
     "start_time": "2024-04-23T22:21:36.709164",
     "status": "completed"
    },
    "tags": []
   },
   "source": [
    "Agora nessa etapa irei criar um função para trocar o ponto pela vírgula nos dados."
   ]
  },
  {
   "cell_type": "code",
   "execution_count": 21,
   "id": "11ea25fc",
   "metadata": {
    "execution": {
     "iopub.execute_input": "2024-04-23T22:21:36.766084Z",
     "iopub.status.busy": "2024-04-23T22:21:36.765373Z",
     "iopub.status.idle": "2024-04-23T22:21:36.785613Z",
     "shell.execute_reply": "2024-04-23T22:21:36.784380Z"
    },
    "id": "crv2Sa-UgRfq",
    "papermill": {
     "duration": 0.044575,
     "end_time": "2024-04-23T22:21:36.788560",
     "exception": false,
     "start_time": "2024-04-23T22:21:36.743985",
     "status": "completed"
    },
    "tags": []
   },
   "outputs": [],
   "source": [
    "func = lambda valor: float(valor.replace(\".\",\"\").replace(\",\",\".\"))\n",
    "\n",
    "df['valor_transacoes_12m'] = df['valor_transacoes_12m'].apply(func)\n",
    "df['limite_credito'] = df['limite_credito'].apply(func)"
   ]
  },
  {
   "cell_type": "markdown",
   "id": "9e4992f4",
   "metadata": {
    "id": "463QZNtQv02s",
    "papermill": {
     "duration": 0.01878,
     "end_time": "2024-04-23T22:21:36.824989",
     "exception": false,
     "start_time": "2024-04-23T22:21:36.806209",
     "status": "completed"
    },
    "tags": []
   },
   "source": [
    "\n",
    "\n",
    "*   Verificando se todo o processo de tratamento do tipo do dado foi realizado com sucesso. Para isso uso a função df.dtypes, o mesmo deve retornas as colunas em questão com os tipos de **float64**.\n",
    "\n"
   ]
  },
  {
   "cell_type": "code",
   "execution_count": 22,
   "id": "5ba2f8d7",
   "metadata": {
    "execution": {
     "iopub.execute_input": "2024-04-23T22:21:36.861941Z",
     "iopub.status.busy": "2024-04-23T22:21:36.861505Z",
     "iopub.status.idle": "2024-04-23T22:21:36.869989Z",
     "shell.execute_reply": "2024-04-23T22:21:36.868694Z"
    },
    "id": "dtV2lne_g4Pq",
    "outputId": "57efd386-96dc-4019-f470-a78d8337740e",
    "papermill": {
     "duration": 0.029713,
     "end_time": "2024-04-23T22:21:36.872253",
     "exception": false,
     "start_time": "2024-04-23T22:21:36.842540",
     "status": "completed"
    },
    "tags": []
   },
   "outputs": [
    {
     "data": {
      "text/plain": [
       "id                           int64\n",
       "default                      int64\n",
       "idade                        int64\n",
       "sexo                        object\n",
       "dependentes                  int64\n",
       "escolaridade                object\n",
       "estado_civil                object\n",
       "salario_anual               object\n",
       "tipo_cartao                 object\n",
       "meses_de_relacionamento      int64\n",
       "qtd_produtos                 int64\n",
       "iteracoes_12m                int64\n",
       "meses_inativo_12m            int64\n",
       "limite_credito             float64\n",
       "valor_transacoes_12m       float64\n",
       "qtd_transacoes_12m           int64\n",
       "dtype: object"
      ]
     },
     "execution_count": 22,
     "metadata": {},
     "output_type": "execute_result"
    }
   ],
   "source": [
    "df.dtypes"
   ]
  },
  {
   "cell_type": "markdown",
   "id": "2a4fbced",
   "metadata": {
    "id": "riCZ79lUiOvL",
    "papermill": {
     "duration": 0.01723,
     "end_time": "2024-04-23T22:21:36.906874",
     "exception": false,
     "start_time": "2024-04-23T22:21:36.889644",
     "status": "completed"
    },
    "tags": []
   },
   "source": [
    "*   Tratamento de dados faltantes\n",
    "\n",
    "\n",
    "\n"
   ]
  },
  {
   "cell_type": "markdown",
   "id": "1ee0789a",
   "metadata": {
    "id": "RBwQOcM4i_yn",
    "papermill": {
     "duration": 0.017553,
     "end_time": "2024-04-23T22:21:36.942130",
     "exception": false,
     "start_time": "2024-04-23T22:21:36.924577",
     "status": "completed"
    },
    "tags": []
   },
   "source": [
    "Removendo todos os dados faltantes na base de dados. Para realizar essa operação uso a função df.dropna para remover todos os dados faltantes na base de dados para posteriormente não causar nenhuma interferência nas análises e resultados."
   ]
  },
  {
   "cell_type": "code",
   "execution_count": 23,
   "id": "d8588484",
   "metadata": {
    "execution": {
     "iopub.execute_input": "2024-04-23T22:21:36.980619Z",
     "iopub.status.busy": "2024-04-23T22:21:36.980182Z",
     "iopub.status.idle": "2024-04-23T22:21:36.990260Z",
     "shell.execute_reply": "2024-04-23T22:21:36.988916Z"
    },
    "id": "oxX96Wq2irX4",
    "papermill": {
     "duration": 0.031604,
     "end_time": "2024-04-23T22:21:36.992716",
     "exception": false,
     "start_time": "2024-04-23T22:21:36.961112",
     "status": "completed"
    },
    "tags": []
   },
   "outputs": [],
   "source": [
    "df.dropna(inplace=True)"
   ]
  },
  {
   "cell_type": "markdown",
   "id": "d4de73e6",
   "metadata": {
    "id": "URPTFvZBjHrY",
    "papermill": {
     "duration": 0.01774,
     "end_time": "2024-04-23T22:21:37.028641",
     "exception": false,
     "start_time": "2024-04-23T22:21:37.010901",
     "status": "completed"
    },
    "tags": []
   },
   "source": [
    "Verificando como ficou a base de dados após a remoção dos dados faltantes."
   ]
  },
  {
   "cell_type": "code",
   "execution_count": 24,
   "id": "de1ea636",
   "metadata": {
    "execution": {
     "iopub.execute_input": "2024-04-23T22:21:37.066576Z",
     "iopub.status.busy": "2024-04-23T22:21:37.065346Z",
     "iopub.status.idle": "2024-04-23T22:21:37.072316Z",
     "shell.execute_reply": "2024-04-23T22:21:37.071328Z"
    },
    "id": "RkabZk-ljQGI",
    "outputId": "2a2b8fee-0ed4-4246-ee34-7ffba52a1b41",
    "papermill": {
     "duration": 0.028093,
     "end_time": "2024-04-23T22:21:37.074395",
     "exception": false,
     "start_time": "2024-04-23T22:21:37.046302",
     "status": "completed"
    },
    "tags": []
   },
   "outputs": [
    {
     "data": {
      "text/plain": [
       "(7081, 16)"
      ]
     },
     "execution_count": 24,
     "metadata": {},
     "output_type": "execute_result"
    }
   ],
   "source": [
    "df.shape"
   ]
  },
  {
   "cell_type": "markdown",
   "id": "47ead6a1",
   "metadata": {
    "id": "Vl210Pu1jwUA",
    "papermill": {
     "duration": 0.019586,
     "end_time": "2024-04-23T22:21:37.111920",
     "exception": false,
     "start_time": "2024-04-23T22:21:37.092334",
     "status": "completed"
    },
    "tags": []
   },
   "source": [
    "Observe acima que houve uma redução de mais ou menos 3000 linhas no df.shape após remover os dados faltantes"
   ]
  },
  {
   "cell_type": "code",
   "execution_count": 25,
   "id": "6fbe2ae0",
   "metadata": {
    "execution": {
     "iopub.execute_input": "2024-04-23T22:21:37.152601Z",
     "iopub.status.busy": "2024-04-23T22:21:37.152141Z",
     "iopub.status.idle": "2024-04-23T22:21:37.160995Z",
     "shell.execute_reply": "2024-04-23T22:21:37.159923Z"
    },
    "id": "FJIMpb3EjffA",
    "outputId": "66971e85-eaa0-4619-a106-24a716c4672e",
    "papermill": {
     "duration": 0.032518,
     "end_time": "2024-04-23T22:21:37.163870",
     "exception": false,
     "start_time": "2024-04-23T22:21:37.131352",
     "status": "completed"
    },
    "tags": []
   },
   "outputs": [
    {
     "data": {
      "text/plain": [
       "(5968, 16)"
      ]
     },
     "execution_count": 25,
     "metadata": {},
     "output_type": "execute_result"
    }
   ],
   "source": [
    "df[df['default'] == 0].shape"
   ]
  },
  {
   "cell_type": "code",
   "execution_count": 26,
   "id": "83cd3042",
   "metadata": {
    "execution": {
     "iopub.execute_input": "2024-04-23T22:21:37.204292Z",
     "iopub.status.busy": "2024-04-23T22:21:37.203854Z",
     "iopub.status.idle": "2024-04-23T22:21:37.211266Z",
     "shell.execute_reply": "2024-04-23T22:21:37.210239Z"
    },
    "id": "nz-Pt-sgjiA_",
    "outputId": "f3286eed-628c-4b38-beaa-9d7dbdd1d81f",
    "papermill": {
     "duration": 0.031311,
     "end_time": "2024-04-23T22:21:37.213612",
     "exception": false,
     "start_time": "2024-04-23T22:21:37.182301",
     "status": "completed"
    },
    "tags": []
   },
   "outputs": [
    {
     "data": {
      "text/plain": [
       "(1113, 16)"
      ]
     },
     "execution_count": 26,
     "metadata": {},
     "output_type": "execute_result"
    }
   ],
   "source": [
    "df[df['default'] == 1].shape"
   ]
  },
  {
   "cell_type": "markdown",
   "id": "02273859",
   "metadata": {
    "id": "jH7nWTmOFTQG",
    "papermill": {
     "duration": 0.017503,
     "end_time": "2024-04-23T22:21:37.249019",
     "exception": false,
     "start_time": "2024-04-23T22:21:37.231516",
     "status": "completed"
    },
    "tags": []
   },
   "source": [
    "# 7. Análise e visualização dos dados"
   ]
  },
  {
   "cell_type": "markdown",
   "id": "a4de26f9",
   "metadata": {
    "id": "8Z_UCO1hp_CX",
    "papermill": {
     "duration": 0.019013,
     "end_time": "2024-04-23T22:21:37.287113",
     "exception": false,
     "start_time": "2024-04-23T22:21:37.268100",
     "status": "completed"
    },
    "tags": []
   },
   "source": [
    "\n",
    "\n",
    "*   Escolaridade\n"
   ]
  },
  {
   "cell_type": "markdown",
   "id": "71cf1898",
   "metadata": {
    "id": "2srz--MNpMqM",
    "papermill": {
     "duration": 0.017686,
     "end_time": "2024-04-23T22:21:37.328017",
     "exception": false,
     "start_time": "2024-04-23T22:21:37.310331",
     "status": "completed"
    },
    "tags": []
   },
   "source": [
    "Chegamos em um momento crucial do projeto, aonde após realizar todo o processo de exploração e limpeza de dados, vamos finalmente entender o motivo que leva um cliente se tornar um inadimplente."
   ]
  },
  {
   "cell_type": "markdown",
   "id": "47bca61b",
   "metadata": {
    "id": "ttvVCprHpvOB",
    "papermill": {
     "duration": 0.017394,
     "end_time": "2024-04-23T22:21:37.363396",
     "exception": false,
     "start_time": "2024-04-23T22:21:37.346002",
     "status": "completed"
    },
    "tags": []
   },
   "source": [
    "\n",
    "Antes de começar, vamos importar alguns pacotes de biblioteca de visualização de dados.\n",
    "\n",
    "*   Seaborn\n",
    "*   Matplotlib\n",
    "\n"
   ]
  },
  {
   "cell_type": "code",
   "execution_count": 27,
   "id": "7a7c15cb",
   "metadata": {
    "execution": {
     "iopub.execute_input": "2024-04-23T22:21:37.401112Z",
     "iopub.status.busy": "2024-04-23T22:21:37.400684Z",
     "iopub.status.idle": "2024-04-23T22:21:39.211370Z",
     "shell.execute_reply": "2024-04-23T22:21:39.210137Z"
    },
    "id": "uny8HM5RqEbK",
    "papermill": {
     "duration": 1.83295,
     "end_time": "2024-04-23T22:21:39.214265",
     "exception": false,
     "start_time": "2024-04-23T22:21:37.381315",
     "status": "completed"
    },
    "tags": []
   },
   "outputs": [],
   "source": [
    "import seaborn as sns\n",
    "import matplotlib.pyplot as plt\n",
    "\n",
    "sns.set_style(\"whitegrid\")"
   ]
  },
  {
   "cell_type": "code",
   "execution_count": 28,
   "id": "9ff3dc2d",
   "metadata": {
    "execution": {
     "iopub.execute_input": "2024-04-23T22:21:39.255433Z",
     "iopub.status.busy": "2024-04-23T22:21:39.254692Z",
     "iopub.status.idle": "2024-04-23T22:21:39.262904Z",
     "shell.execute_reply": "2024-04-23T22:21:39.261627Z"
    },
    "id": "jnqe6_Eoq0dZ",
    "papermill": {
     "duration": 0.032156,
     "end_time": "2024-04-23T22:21:39.265409",
     "exception": false,
     "start_time": "2024-04-23T22:21:39.233253",
     "status": "completed"
    },
    "tags": []
   },
   "outputs": [],
   "source": [
    "df_adimplente = df[df['default'] == 0]\n",
    "df_inadimplente = df[df['default'] == 1]"
   ]
  },
  {
   "cell_type": "markdown",
   "id": "7c841e86",
   "metadata": {
    "id": "n7BpXJgCrAut",
    "papermill": {
     "duration": 0.019179,
     "end_time": "2024-04-23T22:21:39.303226",
     "exception": false,
     "start_time": "2024-04-23T22:21:39.284047",
     "status": "completed"
    },
    "tags": []
   },
   "source": [
    "\n",
    "\n",
    "*   Visualizações categóricas, ou seja, vamos visualizar a relação entre a variável da resposta **default** com os atributos categóricos.\n",
    "\n"
   ]
  },
  {
   "cell_type": "code",
   "execution_count": 29,
   "id": "b3efc89d",
   "metadata": {
    "execution": {
     "iopub.execute_input": "2024-04-23T22:21:39.341056Z",
     "iopub.status.busy": "2024-04-23T22:21:39.340632Z",
     "iopub.status.idle": "2024-04-23T22:21:39.354846Z",
     "shell.execute_reply": "2024-04-23T22:21:39.353647Z"
    },
    "id": "vLyI1-FnrXPB",
    "outputId": "d8843fdd-0348-42ea-d0ed-ae9fdb85e747",
    "papermill": {
     "duration": 0.036117,
     "end_time": "2024-04-23T22:21:39.357561",
     "exception": false,
     "start_time": "2024-04-23T22:21:39.321444",
     "status": "completed"
    },
    "tags": []
   },
   "outputs": [
    {
     "data": {
      "text/html": [
       "<div>\n",
       "<style scoped>\n",
       "    .dataframe tbody tr th:only-of-type {\n",
       "        vertical-align: middle;\n",
       "    }\n",
       "\n",
       "    .dataframe tbody tr th {\n",
       "        vertical-align: top;\n",
       "    }\n",
       "\n",
       "    .dataframe thead th {\n",
       "        text-align: right;\n",
       "    }\n",
       "</style>\n",
       "<table border=\"1\" class=\"dataframe\">\n",
       "  <thead>\n",
       "    <tr style=\"text-align: right;\">\n",
       "      <th></th>\n",
       "      <th>sexo</th>\n",
       "      <th>escolaridade</th>\n",
       "      <th>estado_civil</th>\n",
       "      <th>salario_anual</th>\n",
       "      <th>tipo_cartao</th>\n",
       "    </tr>\n",
       "  </thead>\n",
       "  <tbody>\n",
       "    <tr>\n",
       "      <th>0</th>\n",
       "      <td>M</td>\n",
       "      <td>ensino medio</td>\n",
       "      <td>casado</td>\n",
       "      <td>$60K - $80K</td>\n",
       "      <td>blue</td>\n",
       "    </tr>\n",
       "    <tr>\n",
       "      <th>1</th>\n",
       "      <td>F</td>\n",
       "      <td>mestrado</td>\n",
       "      <td>solteiro</td>\n",
       "      <td>menos que $40K</td>\n",
       "      <td>blue</td>\n",
       "    </tr>\n",
       "    <tr>\n",
       "      <th>2</th>\n",
       "      <td>M</td>\n",
       "      <td>mestrado</td>\n",
       "      <td>casado</td>\n",
       "      <td>$80K - $120K</td>\n",
       "      <td>blue</td>\n",
       "    </tr>\n",
       "    <tr>\n",
       "      <th>4</th>\n",
       "      <td>M</td>\n",
       "      <td>sem educacao formal</td>\n",
       "      <td>casado</td>\n",
       "      <td>$60K - $80K</td>\n",
       "      <td>blue</td>\n",
       "    </tr>\n",
       "    <tr>\n",
       "      <th>5</th>\n",
       "      <td>M</td>\n",
       "      <td>mestrado</td>\n",
       "      <td>casado</td>\n",
       "      <td>$40K - $60K</td>\n",
       "      <td>blue</td>\n",
       "    </tr>\n",
       "  </tbody>\n",
       "</table>\n",
       "</div>"
      ],
      "text/plain": [
       "  sexo         escolaridade estado_civil   salario_anual tipo_cartao\n",
       "0    M         ensino medio       casado     $60K - $80K        blue\n",
       "1    F             mestrado     solteiro  menos que $40K        blue\n",
       "2    M             mestrado       casado    $80K - $120K        blue\n",
       "4    M  sem educacao formal       casado     $60K - $80K        blue\n",
       "5    M             mestrado       casado     $40K - $60K        blue"
      ]
     },
     "execution_count": 29,
     "metadata": {},
     "output_type": "execute_result"
    }
   ],
   "source": [
    "df.select_dtypes('object').head()"
   ]
  },
  {
   "cell_type": "markdown",
   "id": "0964f043",
   "metadata": {
    "id": "BDStjn7qIGGn",
    "papermill": {
     "duration": 0.022071,
     "end_time": "2024-04-23T22:21:39.398954",
     "exception": false,
     "start_time": "2024-04-23T22:21:39.376883",
     "status": "completed"
    },
    "tags": []
   },
   "source": [
    "\n",
    "\n",
    "*   Escolaridade\n"
   ]
  },
  {
   "cell_type": "code",
   "execution_count": 30,
   "id": "03eb4ab9",
   "metadata": {
    "execution": {
     "iopub.execute_input": "2024-04-23T22:21:39.450339Z",
     "iopub.status.busy": "2024-04-23T22:21:39.449826Z",
     "iopub.status.idle": "2024-04-23T22:21:40.549907Z",
     "shell.execute_reply": "2024-04-23T22:21:40.548812Z"
    },
    "id": "A17vOHU5qBvj",
    "outputId": "087cd28f-569c-40cc-f786-32bbf9acf062",
    "papermill": {
     "duration": 1.126864,
     "end_time": "2024-04-23T22:21:40.552186",
     "exception": false,
     "start_time": "2024-04-23T22:21:39.425322",
     "status": "completed"
    },
    "tags": []
   },
   "outputs": [
    {
     "data": {
      "image/png": "[encoded data removed]",
      "text/plain": [
       "<Figure size 2000x500 with 3 Axes>"
      ]
     },
     "metadata": {},
     "output_type": "display_data"
    }
   ],
   "source": [
    "coluna = 'escolaridade'\n",
    "titulos = ['Escolaridade dos Cliente', 'Escolaridade dos Clientes Adimplentes', 'Escolaridade dos Clientes Inadimplentes']\n",
    "\n",
    "eixo = 0\n",
    "max_y = 0\n",
    "max = df.select_dtypes('object').describe()[coluna]['freq'] * 1.1\n",
    "\n",
    "figura, eixos = plt.subplots(1, 3, figsize=(20, 5), sharex=True)\n",
    "max_y = 0\n",
    "\n",
    "for eixo, dataframe in enumerate([df, df_adimplente, df_inadimplente]):\n",
    "  df_to_plot = dataframe[coluna].value_counts().reset_index()\n",
    "  df_to_plot.columns = [coluna, 'frequencia_absoluta']\n",
    "  df_to_plot.sort_values(by=[coluna], inplace=True)\n",
    "\n",
    "  f = sns.barplot(data=df_to_plot, x=coluna, y='frequencia_absoluta', ax=eixos[eixo])\n",
    "  f.set(title=titulos[eixo], xlabel=coluna.capitalize(), ylabel='Frequência Absoluta')\n",
    "  f.set_xticklabels(labels=f.get_xticklabels(), rotation=90)\n",
    "\n",
    "  _, max_y_f = f.get_ylim()\n",
    "  max_y = max_y_f if max_y_f > max_y else max_y\n",
    "\n",
    "for eixo in eixos:\n",
    "  eixo.set(ylim=(0, max_y))\n",
    "\n",
    "figura.show()"
   ]
  },
  {
   "cell_type": "markdown",
   "id": "b854fa68",
   "metadata": {
    "id": "PaaOeYvxW4pu",
    "papermill": {
     "duration": 0.020185,
     "end_time": "2024-04-23T22:21:40.592183",
     "exception": false,
     "start_time": "2024-04-23T22:21:40.571998",
     "status": "completed"
    },
    "tags": []
   },
   "source": [
    "**Sobre os gráficos acima**\n",
    "\n",
    "O intuito de criar esses gráficos era analisar se a variável **'escolaridade'** tinha algum tipo de relação com a resposta a ser respondida, entretanto o desenho formado dos três gráficos são praticamentes idênticos, sendo diferente apenas no valor da frequência absoluta, o que não agrega valor para responder a nossa pergunta.\n"
   ]
  },
  {
   "cell_type": "markdown",
   "id": "b1c5d19e",
   "metadata": {
    "id": "OAY5fgMB3Xqe",
    "papermill": {
     "duration": 0.018769,
     "end_time": "2024-04-23T22:21:40.631360",
     "exception": false,
     "start_time": "2024-04-23T22:21:40.612591",
     "status": "completed"
    },
    "tags": []
   },
   "source": [
    "\n",
    "\n",
    "*   Salário Anual\n",
    "\n"
   ]
  },
  {
   "cell_type": "code",
   "execution_count": 31,
   "id": "61602606",
   "metadata": {
    "execution": {
     "iopub.execute_input": "2024-04-23T22:21:40.672663Z",
     "iopub.status.busy": "2024-04-23T22:21:40.672238Z",
     "iopub.status.idle": "2024-04-23T22:21:41.704516Z",
     "shell.execute_reply": "2024-04-23T22:21:41.703504Z"
    },
    "id": "Ql8Xu9-93b_g",
    "outputId": "f90b106b-94cb-4cbc-adf7-22f6ee2069f2",
    "papermill": {
     "duration": 1.055385,
     "end_time": "2024-04-23T22:21:41.706850",
     "exception": false,
     "start_time": "2024-04-23T22:21:40.651465",
     "status": "completed"
    },
    "tags": []
   },
   "outputs": [
    {
     "data": {
      "image/png": "[encoded data removed]",
      "text/plain": [
       "<Figure size 2000x500 with 3 Axes>"
      ]
     },
     "metadata": {},
     "output_type": "display_data"
    }
   ],
   "source": [
    "coluna = 'salario_anual'\n",
    "titulos = ['Salário Anual dos Cliente', 'Salário Anual dos Clientes Adimplentes', 'Salário Anual dos Clientes Inadimplentes']\n",
    "\n",
    "eixo = 0\n",
    "max_y = 0\n",
    "\n",
    "figura, eixos = plt.subplots(1, 3, figsize=(20, 5), sharex=True)\n",
    "max_y = 0\n",
    "\n",
    "for eixo, dataframe in enumerate([df, df_adimplente, df_inadimplente]):\n",
    "  df_to_plot = dataframe[coluna].value_counts().reset_index()\n",
    "  df_to_plot.columns = [coluna, 'frequencia_absoluta']\n",
    "  df_to_plot.sort_values(by=[coluna], inplace=True)\n",
    "\n",
    "  f = sns.barplot(data=df_to_plot, x=coluna, y='frequencia_absoluta', ax=eixos[eixo])\n",
    "  f.set(title=titulos[eixo], xlabel=coluna.capitalize(), ylabel='Frequência Absoluta')\n",
    "  f.set_xticklabels(labels=f.get_xticklabels(), rotation=90)\n",
    "\n",
    "  _, max_y_f = f.get_ylim()\n",
    "  max_y = max_y_f if max_y_f > max_y else max_y\n",
    "\n",
    "for eixo in eixos:\n",
    "  eixo.set(ylim=(0, max_y))\n",
    "\n",
    "figura.show()"
   ]
  },
  {
   "cell_type": "markdown",
   "id": "f2a05d9f",
   "metadata": {
    "id": "uCrKKZ3wuoks",
    "papermill": {
     "duration": 0.019334,
     "end_time": "2024-04-23T22:21:41.747116",
     "exception": false,
     "start_time": "2024-04-23T22:21:41.727782",
     "status": "completed"
    },
    "tags": []
   },
   "source": [
    "**Sobre os gráficos acima**\n",
    "\n",
    "Ao analisar os três gráficos acima cheguei a conclusão que o salário anual não está associado á inadimplencia dos clientes, pois os mesmos obtiveram um desenho praticamente iguais, só sendo diferente no número da frequência absoluta."
   ]
  },
  {
   "cell_type": "markdown",
   "id": "035ceda1",
   "metadata": {
    "id": "bRh5SYJ48iMh",
    "papermill": {
     "duration": 0.019835,
     "end_time": "2024-04-23T22:21:41.786426",
     "exception": false,
     "start_time": "2024-04-23T22:21:41.766591",
     "status": "completed"
    },
    "tags": []
   },
   "source": [
    "\n",
    "\n",
    "*   Visualizações numéricas, ou seja, vamos visualizar a relação entre a variável da resposta default com os atributos numéricos.\n",
    "\n"
   ]
  },
  {
   "cell_type": "code",
   "execution_count": 32,
   "id": "15329205",
   "metadata": {
    "execution": {
     "iopub.execute_input": "2024-04-23T22:21:41.827965Z",
     "iopub.status.busy": "2024-04-23T22:21:41.827127Z",
     "iopub.status.idle": "2024-04-23T22:21:41.844055Z",
     "shell.execute_reply": "2024-04-23T22:21:41.843085Z"
    },
    "id": "h0msjazF8pU6",
    "outputId": "f947825d-90b6-47ec-fb14-f78f4048dfc6",
    "papermill": {
     "duration": 0.040122,
     "end_time": "2024-04-23T22:21:41.846263",
     "exception": false,
     "start_time": "2024-04-23T22:21:41.806141",
     "status": "completed"
    },
    "tags": []
   },
   "outputs": [
    {
     "data": {
      "text/html": [
       "<div>\n",
       "<style scoped>\n",
       "    .dataframe tbody tr th:only-of-type {\n",
       "        vertical-align: middle;\n",
       "    }\n",
       "\n",
       "    .dataframe tbody tr th {\n",
       "        vertical-align: top;\n",
       "    }\n",
       "\n",
       "    .dataframe thead th {\n",
       "        text-align: right;\n",
       "    }\n",
       "</style>\n",
       "<table border=\"1\" class=\"dataframe\">\n",
       "  <thead>\n",
       "    <tr style=\"text-align: right;\">\n",
       "      <th></th>\n",
       "      <th>idade</th>\n",
       "      <th>dependentes</th>\n",
       "      <th>meses_de_relacionamento</th>\n",
       "      <th>qtd_produtos</th>\n",
       "      <th>iteracoes_12m</th>\n",
       "      <th>meses_inativo_12m</th>\n",
       "      <th>limite_credito</th>\n",
       "      <th>valor_transacoes_12m</th>\n",
       "      <th>qtd_transacoes_12m</th>\n",
       "    </tr>\n",
       "  </thead>\n",
       "  <tbody>\n",
       "    <tr>\n",
       "      <th>0</th>\n",
       "      <td>45</td>\n",
       "      <td>3</td>\n",
       "      <td>39</td>\n",
       "      <td>5</td>\n",
       "      <td>3</td>\n",
       "      <td>1</td>\n",
       "      <td>12691.51</td>\n",
       "      <td>1144.90</td>\n",
       "      <td>42</td>\n",
       "    </tr>\n",
       "    <tr>\n",
       "      <th>1</th>\n",
       "      <td>49</td>\n",
       "      <td>5</td>\n",
       "      <td>44</td>\n",
       "      <td>6</td>\n",
       "      <td>2</td>\n",
       "      <td>1</td>\n",
       "      <td>8256.96</td>\n",
       "      <td>1291.45</td>\n",
       "      <td>33</td>\n",
       "    </tr>\n",
       "    <tr>\n",
       "      <th>2</th>\n",
       "      <td>51</td>\n",
       "      <td>3</td>\n",
       "      <td>36</td>\n",
       "      <td>4</td>\n",
       "      <td>0</td>\n",
       "      <td>1</td>\n",
       "      <td>3418.56</td>\n",
       "      <td>1887.72</td>\n",
       "      <td>20</td>\n",
       "    </tr>\n",
       "    <tr>\n",
       "      <th>4</th>\n",
       "      <td>40</td>\n",
       "      <td>3</td>\n",
       "      <td>21</td>\n",
       "      <td>5</td>\n",
       "      <td>0</td>\n",
       "      <td>1</td>\n",
       "      <td>4716.22</td>\n",
       "      <td>816.08</td>\n",
       "      <td>28</td>\n",
       "    </tr>\n",
       "    <tr>\n",
       "      <th>5</th>\n",
       "      <td>44</td>\n",
       "      <td>2</td>\n",
       "      <td>36</td>\n",
       "      <td>3</td>\n",
       "      <td>2</td>\n",
       "      <td>1</td>\n",
       "      <td>4010.69</td>\n",
       "      <td>1088.07</td>\n",
       "      <td>24</td>\n",
       "    </tr>\n",
       "  </tbody>\n",
       "</table>\n",
       "</div>"
      ],
      "text/plain": [
       "   idade  dependentes  meses_de_relacionamento  qtd_produtos  iteracoes_12m  \\\n",
       "0     45            3                       39             5              3   \n",
       "1     49            5                       44             6              2   \n",
       "2     51            3                       36             4              0   \n",
       "4     40            3                       21             5              0   \n",
       "5     44            2                       36             3              2   \n",
       "\n",
       "   meses_inativo_12m  limite_credito  valor_transacoes_12m  qtd_transacoes_12m  \n",
       "0                  1        12691.51               1144.90                  42  \n",
       "1                  1         8256.96               1291.45                  33  \n",
       "2                  1         3418.56               1887.72                  20  \n",
       "4                  1         4716.22                816.08                  28  \n",
       "5                  1         4010.69               1088.07                  24  "
      ]
     },
     "execution_count": 32,
     "metadata": {},
     "output_type": "execute_result"
    }
   ],
   "source": [
    "df.drop(['id', 'default'], axis=1).select_dtypes('number').head()"
   ]
  },
  {
   "cell_type": "markdown",
   "id": "0bf151d8",
   "metadata": {
    "id": "VOq3jCub9PZP",
    "papermill": {
     "duration": 0.020344,
     "end_time": "2024-04-23T22:21:41.888046",
     "exception": false,
     "start_time": "2024-04-23T22:21:41.867702",
     "status": "completed"
    },
    "tags": []
   },
   "source": [
    "\n",
    "\n",
    "*   Verificando se a quantidade de transações nos últimos 12 meses dos clientes tem algum tipo de relação com o número de inadimplência.\n"
   ]
  },
  {
   "cell_type": "code",
   "execution_count": 33,
   "id": "e33222f8",
   "metadata": {
    "execution": {
     "iopub.execute_input": "2024-04-23T22:21:41.929763Z",
     "iopub.status.busy": "2024-04-23T22:21:41.929031Z",
     "iopub.status.idle": "2024-04-23T22:21:43.258615Z",
     "shell.execute_reply": "2024-04-23T22:21:43.257123Z"
    },
    "id": "TsM6cKZx9lvQ",
    "outputId": "160bebea-8909-4d5b-fca3-b78adcbc3457",
    "papermill": {
     "duration": 1.353735,
     "end_time": "2024-04-23T22:21:43.261437",
     "exception": false,
     "start_time": "2024-04-23T22:21:41.907702",
     "status": "completed"
    },
    "tags": []
   },
   "outputs": [
    {
     "name": "stderr",
     "output_type": "stream",
     "text": [
      "/opt/conda/lib/python3.10/site-packages/seaborn/_oldcore.py:1119: FutureWarning: use_inf_as_na option is deprecated and will be removed in a future version. Convert inf values to NaN before operating instead.\n",
      "  with pd.option_context('mode.use_inf_as_na', True):\n",
      "/opt/conda/lib/python3.10/site-packages/seaborn/_oldcore.py:1119: FutureWarning: use_inf_as_na option is deprecated and will be removed in a future version. Convert inf values to NaN before operating instead.\n",
      "  with pd.option_context('mode.use_inf_as_na', True):\n",
      "/opt/conda/lib/python3.10/site-packages/seaborn/_oldcore.py:1119: FutureWarning: use_inf_as_na option is deprecated and will be removed in a future version. Convert inf values to NaN before operating instead.\n",
      "  with pd.option_context('mode.use_inf_as_na', True):\n"
     ]
    },
    {
     "data": {
      "image/png": "[encoded data removed]",
      "text/plain": [
       "<Figure size 2000x500 with 3 Axes>"
      ]
     },
     "metadata": {},
     "output_type": "display_data"
    }
   ],
   "source": [
    "coluna = 'qtd_transacoes_12m'\n",
    "titulos = ['Qtd transações no último ano', 'Qtd transações no último ano de Adimplentes', 'Qtd transações no último ano de Inadimplentes']\n",
    "\n",
    "eixo = 0\n",
    "max_y = 0\n",
    "figura, eixos = plt.subplots(1, 3, figsize=(20, 5), sharex=True)\n",
    "\n",
    "for dataframe in [df, df_adimplente, df_inadimplente]:\n",
    "\n",
    "  f = sns.histplot(x=coluna, data=dataframe, stat='count', ax=eixos[eixo])\n",
    "  f.set(title=titulos[eixo], xlabel=coluna.capitalize(), ylabel='Frequência Absoluta')\n",
    "\n",
    "  _, max_y_f = f.get_ylim()\n",
    "  max_y = max_y_f if max_y_f > max_y else max_y\n",
    "  f.set(ylim=(0, max_y))\n",
    "\n",
    "  eixo += 1\n",
    "\n",
    "figura.show()"
   ]
  },
  {
   "cell_type": "markdown",
   "id": "c92e74a4",
   "metadata": {
    "id": "meTISu-Tvdaa",
    "papermill": {
     "duration": 0.02055,
     "end_time": "2024-04-23T22:21:43.302762",
     "exception": false,
     "start_time": "2024-04-23T22:21:43.282212",
     "status": "completed"
    },
    "tags": []
   },
   "source": [
    "**Sobre os gráficos acima**\n",
    "\n",
    "Ao analisar os resultados, cheguei a conclusão que o dado de 'Quantidade de transações realizadas no último ano' tem sim uma relação direta com os clientes inadimplentes, pois os valores se concentram em **40**, respondendo assim que os clientes que tem uma média de 40 transações por ano tem uma maior probabilidade de ser ou de tornar-se um inadimplente."
   ]
  },
  {
   "cell_type": "markdown",
   "id": "5b805e11",
   "metadata": {
    "id": "_znjcgWiAu80",
    "papermill": {
     "duration": 0.02004,
     "end_time": "2024-04-23T22:21:43.343197",
     "exception": false,
     "start_time": "2024-04-23T22:21:43.323157",
     "status": "completed"
    },
    "tags": []
   },
   "source": [
    "\n",
    "\n",
    "*   Verificando o valor das transações feitas nos últimos 12 meses.\n",
    "\n"
   ]
  },
  {
   "cell_type": "code",
   "execution_count": 34,
   "id": "d1b4d7e1",
   "metadata": {
    "execution": {
     "iopub.execute_input": "2024-04-23T22:21:43.386130Z",
     "iopub.status.busy": "2024-04-23T22:21:43.385441Z",
     "iopub.status.idle": "2024-04-23T22:21:44.934677Z",
     "shell.execute_reply": "2024-04-23T22:21:44.933172Z"
    },
    "id": "etMKpB7SBBeZ",
    "outputId": "57685b0f-491a-4c7c-8909-52462d647b94",
    "papermill": {
     "duration": 1.573804,
     "end_time": "2024-04-23T22:21:44.937431",
     "exception": false,
     "start_time": "2024-04-23T22:21:43.363627",
     "status": "completed"
    },
    "tags": []
   },
   "outputs": [
    {
     "name": "stderr",
     "output_type": "stream",
     "text": [
      "/opt/conda/lib/python3.10/site-packages/seaborn/_oldcore.py:1119: FutureWarning: use_inf_as_na option is deprecated and will be removed in a future version. Convert inf values to NaN before operating instead.\n",
      "  with pd.option_context('mode.use_inf_as_na', True):\n",
      "/opt/conda/lib/python3.10/site-packages/seaborn/_oldcore.py:1119: FutureWarning: use_inf_as_na option is deprecated and will be removed in a future version. Convert inf values to NaN before operating instead.\n",
      "  with pd.option_context('mode.use_inf_as_na', True):\n",
      "/opt/conda/lib/python3.10/site-packages/seaborn/_oldcore.py:1119: FutureWarning: use_inf_as_na option is deprecated and will be removed in a future version. Convert inf values to NaN before operating instead.\n",
      "  with pd.option_context('mode.use_inf_as_na', True):\n"
     ]
    },
    {
     "data": {
      "image/png": "[encoded data removed]",
      "text/plain": [
       "<Figure size 2000x500 with 3 Axes>"
      ]
     },
     "metadata": {},
     "output_type": "display_data"
    }
   ],
   "source": [
    "coluna = 'valor_transacoes_12m'\n",
    "titulos = ['Valor das transações no último ano', 'Valor das transações no último ano de Adimplentes', 'Valor das transações no último ano de Inadimplentes']\n",
    "\n",
    "eixo = 0\n",
    "max_y = 0\n",
    "figura, eixos = plt.subplots(1, 3, figsize=(20, 5), sharex=True)\n",
    "\n",
    "for dataframe in [df, df_adimplente, df_inadimplente]:\n",
    "\n",
    "  f = sns.histplot(x=coluna, data=dataframe, stat='count', ax=eixos[eixo])\n",
    "  f.set(title=titulos[eixo], xlabel=coluna.capitalize(), ylabel='Frequência Absoluta')\n",
    "\n",
    "  _, max_y_f = f.get_ylim()\n",
    "  max_y = max_y_f if max_y_f > max_y else max_y\n",
    "  f.set(ylim=(0, max_y))\n",
    "\n",
    "  eixo += 1\n",
    "\n",
    "figura.show()"
   ]
  },
  {
   "cell_type": "markdown",
   "id": "9786410e",
   "metadata": {
    "id": "ZBVwmGiCxiIn",
    "papermill": {
     "duration": 0.025033,
     "end_time": "2024-04-23T22:21:44.986968",
     "exception": false,
     "start_time": "2024-04-23T22:21:44.961935",
     "status": "completed"
    },
    "tags": []
   },
   "source": [
    "**Sobre os gráficos acima**\n",
    "\n",
    "Ao analisar os resultados acima, cheguei a seguinte conclusão: Que os clientes que tem um valor médio de transação no ano de **0 á 2500** com o pico deles sendo **2500** tendem ser ou torna-lós inadimplentes."
   ]
  },
  {
   "cell_type": "markdown",
   "id": "e1a86571",
   "metadata": {
    "id": "WWnSouEbyIOv",
    "papermill": {
     "duration": 0.021584,
     "end_time": "2024-04-23T22:21:45.030600",
     "exception": false,
     "start_time": "2024-04-23T22:21:45.009016",
     "status": "completed"
    },
    "tags": []
   },
   "source": [
    "\n",
    "\n",
    "*   Será que a **Idade** pode gerar alguma relação com a Inadimplência dos clientes?\n",
    "\n"
   ]
  },
  {
   "cell_type": "code",
   "execution_count": 35,
   "id": "798d9e0e",
   "metadata": {
    "execution": {
     "iopub.execute_input": "2024-04-23T22:21:45.080303Z",
     "iopub.status.busy": "2024-04-23T22:21:45.079908Z",
     "iopub.status.idle": "2024-04-23T22:21:46.488102Z",
     "shell.execute_reply": "2024-04-23T22:21:46.486950Z"
    },
    "id": "W1s0evZCg4c2",
    "outputId": "d2c4691f-537e-452d-add2-537e88c0a6d0",
    "papermill": {
     "duration": 1.437321,
     "end_time": "2024-04-23T22:21:46.490486",
     "exception": false,
     "start_time": "2024-04-23T22:21:45.053165",
     "status": "completed"
    },
    "tags": []
   },
   "outputs": [
    {
     "name": "stderr",
     "output_type": "stream",
     "text": [
      "/opt/conda/lib/python3.10/site-packages/seaborn/_oldcore.py:1119: FutureWarning: use_inf_as_na option is deprecated and will be removed in a future version. Convert inf values to NaN before operating instead.\n",
      "  with pd.option_context('mode.use_inf_as_na', True):\n",
      "/opt/conda/lib/python3.10/site-packages/seaborn/_oldcore.py:1119: FutureWarning: use_inf_as_na option is deprecated and will be removed in a future version. Convert inf values to NaN before operating instead.\n",
      "  with pd.option_context('mode.use_inf_as_na', True):\n",
      "/opt/conda/lib/python3.10/site-packages/seaborn/_oldcore.py:1119: FutureWarning: use_inf_as_na option is deprecated and will be removed in a future version. Convert inf values to NaN before operating instead.\n",
      "  with pd.option_context('mode.use_inf_as_na', True):\n"
     ]
    },
    {
     "data": {
      "image/png": "[encoded data removed]",
      "text/plain": [
       "<Figure size 2000x500 with 3 Axes>"
      ]
     },
     "metadata": {},
     "output_type": "display_data"
    }
   ],
   "source": [
    "coluna = 'idade'\n",
    "titulos = ['Idade dos clientes', 'Idade dos clientes Adimplentes', 'Idade dos clientes Inadimplentes']\n",
    "\n",
    "eixo = 0\n",
    "max_y = 0\n",
    "figura, eixos = plt.subplots(1, 3, figsize=(20, 5), sharex=True)\n",
    "\n",
    "for dataframe in [df, df_adimplente, df_inadimplente]:\n",
    "\n",
    "  f = sns.histplot(x=coluna, data=dataframe, stat='count', ax=eixos[eixo])\n",
    "  f.set(title=titulos[eixo], xlabel=coluna.capitalize(), ylabel='Frequência absoluta')\n",
    "\n",
    "  _, max_y_f = f.get_ylim()\n",
    "  max_y = max_y_f if max_y_f > max_y else max_y\n",
    "  f.set(ylim=(0, max_y))\n",
    "\n",
    "  eixo += 1\n",
    "\n",
    "figura.show()"
   ]
  },
  {
   "cell_type": "markdown",
   "id": "3ea7496b",
   "metadata": {
    "id": "bf3VSFlBym3V",
    "papermill": {
     "duration": 0.022771,
     "end_time": "2024-04-23T22:21:46.535453",
     "exception": false,
     "start_time": "2024-04-23T22:21:46.512682",
     "status": "completed"
    },
    "tags": []
   },
   "source": [
    "**Sobre os gráficos acima**\n",
    "\n",
    "Surpreendentemente, os resultados obtidos são bastante intrigantes. Antes de criar esses gráficos, eu presumia que os clientes mais jovens seriam os mais propensos a se tornarem inadimplentes. No entanto, os dados revelam o contrário: em média, pessoas entre 40 e 50 anos têm maior tendência a se tornarem inadimplentes, com o pico próximo aos **50 anos de idade**."
   ]
  },
  {
   "cell_type": "code",
   "execution_count": 36,
   "id": "11c3bc3c",
   "metadata": {
    "execution": {
     "iopub.execute_input": "2024-04-23T22:21:46.581974Z",
     "iopub.status.busy": "2024-04-23T22:21:46.581518Z",
     "iopub.status.idle": "2024-04-23T22:21:48.088893Z",
     "shell.execute_reply": "2024-04-23T22:21:48.087683Z"
    },
    "id": "4drOSpCYUTtB",
    "outputId": "62338de3-3ca0-4332-c18f-1b89374850e4",
    "papermill": {
     "duration": 1.533875,
     "end_time": "2024-04-23T22:21:48.091929",
     "exception": false,
     "start_time": "2024-04-23T22:21:46.558054",
     "status": "completed"
    },
    "tags": []
   },
   "outputs": [
    {
     "data": {
      "image/png": "[encoded data removed]",
      "text/plain": [
       "<Figure size 560.236x500 with 1 Axes>"
      ]
     },
     "metadata": {},
     "output_type": "display_data"
    }
   ],
   "source": [
    "f = sns.relplot(x='valor_transacoes_12m', y='qtd_transacoes_12m', data=df, hue='default')\n",
    "_ = f.set(\n",
    "    title='Relação entre Valor e Quantidade de Transações no último Ano',\n",
    "    xlabel='Valor das Transações no Último Ano',\n",
    "    ylabel='Quantidade das Transações no Último Ano'\n",
    ")"
   ]
  },
  {
   "cell_type": "markdown",
   "id": "b17d7944",
   "metadata": {
    "id": "qTr3ZSoAKQHg",
    "papermill": {
     "duration": 0.024178,
     "end_time": "2024-04-23T22:21:48.140238",
     "exception": false,
     "start_time": "2024-04-23T22:21:48.116060",
     "status": "completed"
    },
    "tags": []
   },
   "source": [
    "**Sobre o gráfico acima**\n",
    "\n",
    "Após obter os dados para uma visualização individual, e assim relacionar posteriormente, chegamos a seguinte conclusão: Clientes que tem um valor alto nas transações (acima de 12500) e em média acima de 80 transações por um ano, tendem a ser adimplentes. Entretanto o maior indice de inadimplência fica concentrado em dois grupos, o primeiro no valor de (7500 á 10000) e de (60 á 80 transações por ano) e o segundo grupo fica concentrado no valor de (0 á 2500) e de (20 á 60 transações por ano). Por fim, isso significa que os clientes nessa faixa de valores devem ter um olhar mais atento por agências bancárias."
   ]
  },
  {
   "cell_type": "markdown",
   "id": "4792bcfc",
   "metadata": {
    "id": "CwTK4EDdL8Pf",
    "papermill": {
     "duration": 0.024527,
     "end_time": "2024-04-23T22:21:48.190883",
     "exception": false,
     "start_time": "2024-04-23T22:21:48.166356",
     "status": "completed"
    },
    "tags": []
   },
   "source": [
    "\n",
    "\n",
    "*  A próxima relação de dados á ser analisada é referente á idade com a quantidade de inadimplência, em outras palavras será que o perfil de um jovem tende ser mais propicio a torna-se um inadimplente, ou uma pessoa mais velha tende a ter esse comportamento?\n",
    "\n",
    "\n",
    "\n"
   ]
  },
  {
   "cell_type": "markdown",
   "id": "ca40221b",
   "metadata": {
    "id": "Y9QK1SU-FYU2",
    "papermill": {
     "duration": 0.024229,
     "end_time": "2024-04-23T22:21:48.239370",
     "exception": false,
     "start_time": "2024-04-23T22:21:48.215141",
     "status": "completed"
    },
    "tags": []
   },
   "source": [
    "# 8. Resumo dos insights"
   ]
  },
  {
   "cell_type": "markdown",
   "id": "5b3c637d",
   "metadata": {
    "id": "IbSFFTXfxi79",
    "papermill": {
     "duration": 0.02474,
     "end_time": "2024-04-23T22:21:48.288294",
     "exception": false,
     "start_time": "2024-04-23T22:21:48.263554",
     "status": "completed"
    },
    "tags": []
   },
   "source": [
    "Em suma, ao analisar os dados, identificamos diversos pontos que contribuem para a inadimplência dos clientes:\n",
    "\n",
    "- Inicialmente, descartamos as hipóteses relacionadas à escolaridade e ao salário anual, pois não apresentaram influência significativa sobre a inadimplência.\n",
    "\n",
    "- Um dos principais fatores que explicam a alta taxa de inadimplência é a quantidade de transações realizadas ao longo de um ano. Observamos que a maioria dos casos de inadimplência ocorre entre clientes que realizam em torno de 40 transações anuais, indicando a necessidade de monitoramento mais próximo por parte das instituições bancárias.\n",
    "\n",
    "- Além disso, o valor das transações também está diretamente relacionado à inadimplência, especialmente aquelas que variam de 0 a 2500 reais. Isso sugere que clientes que realizam esse tipo de transação devem ser monitorados de perto, já que podem representar um risco para as agências bancárias.\n",
    "\n",
    "- Surpreendentemente, a idade também desempenha um papel significativo na inadimplência. Contrariando a expectativa inicial, constatamos que, em média, pessoas entre 40 e 50 anos apresentam maior propensão a se tornarem inadimplentes, com o pico ocorrendo próximo aos 50 anos de idade.\n",
    "\n",
    "- Por fim, para criar um perfil de clientes inadimplentes, identificamos um padrão de dados que ajuda a estabelecer esse perfil: clientes que realizam transações de alto valor (acima de 12500 reais) e em média mais de 80 transações por ano tendem a ser adimplentes. No entanto, a maior incidência de inadimplência concentra-se em dois grupos: o primeiro com transações entre 7500 e 10000 reais e entre 60 e 80 transações por ano, e o segundo com transações entre 0 e 2500 reais e entre 20 e 60 transações por ano. Isso indica que os clientes nessas faixas de valores requerem uma atenção especial por parte das agências bancárias."
   ]
  }
 ],
 "metadata": {
  "colab": {
   "provenance": []
  },
  "kaggle": {
   "accelerator": "none",
   "dataSources": [
    {
     "datasetId": 4865225,
     "sourceId": 8209929,
     "sourceType": "datasetVersion"
    },
    {
     "datasetId": 4865251,
     "sourceId": 8209974,
     "sourceType": "datasetVersion"
    }
   ],
   "dockerImageVersionId": 30702,
   "isGpuEnabled": false,
   "isInternetEnabled": false,
   "language": "python",
   "sourceType": "notebook"
  },
  "kernelspec": {
   "display_name": "Python 3",
   "language": "python",
   "name": "python3"
  },
  "language_info": {
   "codemirror_mode": {
    "name": "ipython",
    "version": 3
   },
   "file_extension": ".py",
   "mimetype": "text/x-python",
   "name": "python",
   "nbconvert_exporter": "python",
   "pygments_lexer": "ipython3",
   "version": "3.10.13"
  },
  "papermill": {
   "default_parameters": {},
   "duration": 18.609681,
   "end_time": "2024-04-23T22:21:49.040784",
   "environment_variables": {},
   "exception": null,
   "input_path": "__notebook__.ipynb",
   "output_path": "__notebook__.ipynb",
   "parameters": {},
   "start_time": "2024-04-23T22:21:30.431103",
   "version": "2.5.0"
  }
 },
 "nbformat": 4,
 "nbformat_minor": 5
}
